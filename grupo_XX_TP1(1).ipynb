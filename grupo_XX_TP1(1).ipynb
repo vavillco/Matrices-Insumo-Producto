{
 "cells": [
  {
   "attachments": {},
   "cell_type": "markdown",
   "id": "5c0cbb93-2880-4750-975d-11cce9f6b12c",
   "metadata": {},
   "source": [
    "# Trabajo Práctico 1 - Matrices de Insumo Producto\n",
    "\n",
    "## Enunciado"
   ]
  },
  {
   "cell_type": "markdown",
   "id": "11f7face-a325-4e30-b13e-0c3d84280c5e",
   "metadata": {},
   "source": [
    "### Consigna 1 - "
   ]
  },
  {
   "cell_type": "markdown",
   "id": "e69c407d-9132-421c-8d02-508da3bb3ae6",
   "metadata": {},
   "source": [
    "Vamos a interpretar las posibles soluciones que podemos obtener del sistema $$ p = (I - A)^{-1} d = Ld $$ Para ello tendremos en cuenta que significa que una matriz sea inversible o no y como impacta esto en las soluciones de mi sistema de ecuaciones lineales.\n",
    "<p style=\"text-align: left;\">\n",
    "a) \\( (I - A) \\ \\text{es inversible} \\)\n",
    "</p>\n",
    "Si la matriz (I - A) tiene inversa esto significa que existe la matriz de Leontief, luego existe solucion unica para este sistema.\n",
    "<p></p>\n",
    "<p style=\"text-align: left;\">\n",
    "b) \\( (I - A) \\ \\text{es inversible y d = 0} \\)\n",
    "</p>\n",
    "En este caso existe matriz de Leontief pero mi sistema resulta en $p = (I - A)^{-1}\\cdot0 = L\\cdot0 = 0$  Podemos decir que no existe demanda externa en este caso y que la produccion total es destinada a satisfacer la demanda interna.\n",
    "<p></p>\n",
    "<p style=\"text-align: left;\">\n",
    "c) \\( (I - A) \\ \\text{no es inversible} \\)\n",
    "</p>\n",
    "Al no existir inversa esto significa que no se puede calcular la matriz de Leontief. Esto tiene dos posibles conclusiones:  <p></p> \n",
    "  . El sistema no tiene solucion. <p></p> \n",
    "  . Existen infinitas soluciones debido que hay dependencia lineal entre las ecuaciones de mi sistema. Esto puede ocurrir debido a una relacion entre sectores que determinan que no hay unica solucion.\n",
    "<p style=\"text-align: left;\">\n",
    "d) \\( (I - A) \\ \\text{no es inversible y d = 0} \\)\n",
    "</p>    \n",
    "Debido a que no existe matriz de Leontief y que d = 0, para este caso el sistema admite infinitas soluciones para p.\n",
    "\n"
   ]
  },
  {
   "cell_type": "markdown",
   "id": "6ea60699-4c07-40fb-8f71-ec4cacf32708",
   "metadata": {},
   "source": [
    "### Consigna 2 -  "
   ]
  },
  {
   "cell_type": "code",
   "execution_count": 2,
   "id": "260b913f-d6d3-47b8-9431-7a64d6d037a5",
   "metadata": {},
   "outputs": [],
   "source": [
    "import numpy as np\n",
    "from scipy.linalg import solve_triangular\n",
    "\n",
    "def calcularLU(A):\n",
    "    \"\"\"\n",
    "    Calcular la factorización LU de una matriz.\n",
    "\n",
    "    Args:\n",
    "        A (numpy.ndarray): Matriz cuadrada que se desea factorizar.\n",
    "\n",
    "    Returns:\n",
    "        L (numpy.ndarray): Matriz triangular inferior L.\n",
    "        U (numpy.ndarray): Matriz triangular superior U.\n",
    "        P (numpy.ndarray): Matriz de permutación P.\n",
    "    \"\"\"\n",
    "    m = A.shape[0]\n",
    "    n = A.shape[1]\n",
    "    Ac = A.copy()\n",
    "    P = np.eye(n)\n",
    "    \n",
    "    if m != n:\n",
    "        print('Matriz no cuadrada')\n",
    "        return\n",
    "\n",
    "    L = np.eye(n) \n",
    "        \n",
    "    for i in range(0, n):   \n",
    "        max_row = np.argmax(np.abs(Ac[i:n, i])) + i\n",
    "        if i != max_row:\n",
    "            # Intercambiamos las filas en Ac\n",
    "            Ac[[i, max_row], :] = Ac[[max_row, i], :]\n",
    "            \n",
    "            # Intercambiamos las filas en P\n",
    "            P[[i, max_row], :] = P[[max_row, i], :]\n",
    "            \n",
    "            # Intercambiamos las filas en L hasta la columna i (excluyendo la diagonal)\n",
    "            if i > 0:\n",
    "                L[[i, max_row], :i] = L[[max_row, i], :i]\n",
    "            \n",
    "        for j in range(i+1, n):\n",
    "            piv = Ac[j][i] / Ac[i][i]\n",
    "            Ac[j] = Ac[j] - piv * Ac[i]\n",
    "            L[j][i] = piv\n",
    "\n",
    "    U = Ac\n",
    "    return L, U, P"
   ]
  },
  {
   "cell_type": "markdown",
   "id": "b6527567-ea14-4fb0-8cbb-3faa67fee8c1",
   "metadata": {},
   "source": [
    "---"
   ]
  },
  {
   "cell_type": "code",
   "execution_count": 3,
   "id": "0cba432d-6576-4909-a1a1-027d40e88e1b",
   "metadata": {},
   "outputs": [],
   "source": [
    "\n",
    "def inversaLU(L, U, P):\n",
    "    \"\"\"\n",
    "    Calculo de la inversa de una matriz a partir de su factorización LU.\n",
    "\n",
    "    Args:\n",
    "        L (numpy.ndarray): Matriz triangular inferior L.\n",
    "        U (numpy.ndarray): Matriz triangular superior U.\n",
    "        P (numpy.ndarray): Matriz de permutación P.\n",
    "\n",
    "    Returns:\n",
    "        numpy.ndarray: Matriz inversa de la matriz original A que fue factorizada en L, U y P.\n",
    "    \"\"\"\n",
    "    n = L.shape[0]\n",
    "    Inv = np.zeros((n, 0)) \n",
    "\n",
    "    if P is None:\n",
    "        P = np.eye(n)  # Si no se proporciona P, se usa la identidad\n",
    "    for i in range(n):\n",
    "        b = P[:, i]  \n",
    "        x = solve_triangular(L, b, lower=True)\n",
    "        y = solve_triangular(U, x, lower=False)\n",
    "        Inv = np.column_stack((Inv, y))  # Agregamos la columna de la inversa\n",
    "\n",
    "    return Inv\n"
   ]
  },
  {
   "cell_type": "markdown",
   "id": "32157079-8455-448c-ace4-cd5986936a96",
   "metadata": {},
   "source": [
    "### Consigna 3 -  "
   ]
  },
  {
   "cell_type": "markdown",
   "id": "d36b16a8-c03b-4301-8e7d-113a815cf265",
   "metadata": {},
   "source": [
    "$$\n",
    "A = \\begin{pmatrix}\n",
    "0.3 & 0.0 & 0.1 \\\\\n",
    "0.05 & 1.0 & 0.2 \\\\\n",
    "0.1 & 0.15 & 0.1\n",
    "\\end{pmatrix}\n",
    ", \\quad\n",
    "d = \\begin{pmatrix}\n",
    "100 \\\\\n",
    "100 \\\\\n",
    "300\n",
    "\\end{pmatrix}\n",
    "$$\n"
   ]
  },
  {
   "cell_type": "code",
   "execution_count": 12,
   "id": "5be7f763-6647-4334-91bb-e647cedde20c",
   "metadata": {
    "scrolled": true
   },
   "outputs": [
    {
     "name": "stdout",
     "output_type": "stream",
     "text": [
      "P = [   68.96551724 -5149.42528736  -517.24137931]\n"
     ]
    }
   ],
   "source": [
    "A = np.array([[0.3,0.0,0.1],[0.05,1.0,0.2],[0.1,0.15,0.1]])\n",
    "d = np.array([100,100,300])\n",
    "\n",
    "L,U,P = calcularLU(np.eye(3) - A)\n",
    "\n",
    "print(\"P = \" + str(inversaLU(L, U, P)@d))\n"
   ]
  },
  {
   "cell_type": "markdown",
   "id": "b41cb359-312c-4fdd-a873-7dbd86fead7d",
   "metadata": {},
   "source": [
    "a)\n",
    "En el contexto de un modelo de insumo-producto como el de Leontief, el vector de producción $ P $\n",
    "indica la cantidad de bienes o servicios que deben producirse en cada sector para satisfacer la demanda interna y externa.\n",
    "En nuestro caso podemos explicar los requerimientos de cada sector de $ P $ de la siguiente forma :\n",
    "\n",
    "Primer sector ($ 68.97 $): El primer valor del vector indica que el primer sector debe producir 68.97 unidades. Esta cantidad satisface tanto la demanda externa como los insumos que requieren los otros sectores. Por lo tanto este sector se encuentra en superávit.\n",
    "\n",
    "Segundo sector ($ -5149.43 $): Un valor negativo sugiere que la producción en el segundo sector no solo es insuficiente para cubrir la demanda externa, sino que probablemente es un insumo significativo para otros sectores. Este déficit indica que se requiere una gran cantidad de productos del segundo sector como insumos para producir en otros sectores, lo que crea una dependencia significativa. Por lo tanto este sector se encuentra en déficit\n",
    "\n",
    "Tercer sector ($ -517.24 $): Similar al segundo sector, este valor negativo implica un consumo neto de insumos del tercer sector. El sistema consume 517.24 unidades del tercer sector para satisfacer las demandas de otros sectores o la demanda final. Por lo tanto este sector se encuentra en déficit.\n",
    "\n",
    "b)\n",
    "La caracteristica de la matriz de Leontief $ L = (I-A) $ que lleva a esta solucion unica, es que es inversible. Es decir, su determinante es distinto de cero, por lo que la economía descrita por la matriz A es autosuficiente y sostenible en su estructura. Esto implica que cada sector, aunque dependa de otros, es capaz de satisfacer la demanda externa y su demanda interna de insumos. Si el determinante fuera cero, indicaría que hay una dependencia excesiva o una redundancia en el sistema. Por ejemplo, un sector podría necesitar infinitas unidades de otro sector para producir, lo cual es inviable.\n"
   ]
  },
  {
   "cell_type": "markdown",
   "id": "f2ef586f",
   "metadata": {},
   "source": [
    "### Consigna 4 -  "
   ]
  },
  {
   "cell_type": "markdown",
   "id": "bdf31e67-2847-4ac4-9687-52c7df527440",
   "metadata": {},
   "source": [
    "Ante un shock de demanda externa $ \\Delta d = \\begin{pmatrix} 0 \\\\ 0 \\\\ 1 \\end{pmatrix} $ , la producción total se tendrá que adaptar bajo la ecuación\n",
    "\n",
    "$$ p' = L \\cdot d' = p + \\Delta p $$\n",
    "\n",
    "siendo $ \\Delta p $ el cambio de producción tal que  $ \\Delta p = L \\cdot \\Delta d $\n",
    "\n",
    "Teniendo en cuenta que $ \\Delta d $ solo tiene un valor en la tercer columna, el shock de demanda se concentra en el tercer producto, pero genera cambios en la producción de todos los demás.\n",
    "\n",
    "Analíticamente, siendo la matriz $ L $ la matriz de Leontief:\n",
    "\n",
    "$$\n",
    "L = \\begin{pmatrix}\n",
    "L_{11} & L_{12} & L_{13} \\\\\n",
    "L_{21} & L_{22} & L_{23} \\\\\n",
    "L_{31} & L_{32} & L_{33}\n",
    "\\end{pmatrix}\n",
    "$$\n",
    "\n",
    "El cambio en la producción se calcula como:\n",
    "\n",
    "$$ \\Delta p = L \\cdot \\begin{pmatrix} 0 \\\\ 0 \\\\ 1 \\end{pmatrix} = \\begin{pmatrix} L_{13} \\\\ L_{23} \\\\ L_{33} \\end{pmatrix} $$\n",
    "\n",
    "Esto coincide con la observación anterior: un shock de demanda en el tercer producto afecta a la producción de todos los demás."
   ]
  },
  {
   "cell_type": "markdown",
   "id": "624aa6d4",
   "metadata": {},
   "source": [
    "### Consigna 5 -  "
   ]
  },
  {
   "cell_type": "code",
   "execution_count": null,
   "id": "121d098b",
   "metadata": {},
   "outputs": [],
   "source": [
    "## Sea Z mi matriz compuesta por la demanda interna de cada sector\n",
    "Z = np.array([[350,0,0],[50, 250, 150], [200,150,550]])\n",
    "## vector p que muestra la produccion total por cada sector\n",
    "p = np.array([1000, 500, 1000])\n",
    "## Armamo mi matriz diagonal P\n",
    "ProdTotal = np.diag(p)\n",
    "## Calculamos la matriz A con coeficientes tecnicos, A = Z@P^-1, utilizando las funciones calcularLU e inversaLU\n",
    "L, U, P = calcularLU(ProdTotal)\n",
    "pInv = (inversaLU(L,U,P))\n",
    "A = Z@pInv\n",
    "print(A) \n",
    "## Calculamos la matriz de Leontief: L=(I - A)^-1 \n",
    "## (I - A)\n",
    "I = np.eye(Z.shape[0])\n",
    "Lp = I - A\n",
    "## Matriz de Leontief\n",
    "L, U, P = calcularLU(Lp)\n",
    "matriz_Leontief = (inversaLU(L,U,P))\n",
    "print(matriz_Leontief)"
   ]
  },
  {
   "cell_type": "markdown",
   "id": "5074c6a8",
   "metadata": {},
   "source": [
    "### Consigna 6 -  "
   ]
  },
  {
   "cell_type": "markdown",
   "id": "ead334df",
   "metadata": {},
   "source": [
    "A partir de la fórmula\n",
    "$$\n",
    "\n",
    "\\begin{pmatrix}\n",
    "\n",
    "\\begin{pmatrix}\n",
    "I_{nxn} & 0_{nxm} \\\\\n",
    "0_{mxn} & I_{mxm} \\\\ \n",
    "\\end{pmatrix}\n",
    "-\n",
    "\\begin{pmatrix}\n",
    "A^{rr} & A^{rs} \\\\\n",
    "A^{sr} & A^{ss} \\\\ \n",
    "\\end{pmatrix}\n",
    "\n",
    "\\end{pmatrix}\n",
    "\n",
    "\\begin{pmatrix} p^r \\\\ p^s \\end{pmatrix}\n",
    "\n",
    "=\n",
    "\n",
    "\\begin{pmatrix} d^r \\\\ d^s \\end{pmatrix}\n",
    "\n",
    "$$\n",
    "Queremos encontrar $ \\Delta p^r$\n"
   ]
  },
  {
   "cell_type": "markdown",
   "id": "3c22a502",
   "metadata": {},
   "source": [
    "Para despejar, restamos a las Identidades $ I $ las matrices $ A $ y luego, aplicamos distributiva para los vectores de producción $ p $\n",
    "\n",
    "$$\n",
    "\n",
    "\\begin{pmatrix}\n",
    "(I_{nxn} - A^{rr}) p^r - A^{rs} p^s \\\\\n",
    "- A^{sr} p^r + (I_{mxm} - A^{ss}) p^s\\\\ \n",
    "\\end{pmatrix}\n",
    "\n",
    "=\n",
    "\n",
    "\\begin{pmatrix} d^r \\\\ d^s \\end{pmatrix}\n",
    "\n",
    "$$\n"
   ]
  },
  {
   "cell_type": "markdown",
   "id": "45639801",
   "metadata": {},
   "source": [
    "Separamos las 2 filas en 2 ecuaciones para formar el sistema\n",
    "\n",
    "$$\n",
    "\n",
    "\\begin{pmatrix}\n",
    "(I_{nxn} - A^{rr}) p^r - A^{rs} p^s\n",
    "\\end{pmatrix}\n",
    "\n",
    "=\n",
    "\n",
    "d^r \n",
    "\n",
    "$$\n",
    "$$\n",
    "\n",
    "\\begin{pmatrix}\n",
    "-A^{sr} p^r + (I_{mxm} - A^{ss}) p^s\n",
    "\\end{pmatrix}\n",
    "\n",
    "=\n",
    "\n",
    "d^s \n",
    "\n",
    "$$\n"
   ]
  },
  {
   "cell_type": "markdown",
   "id": "4ff5ad7b",
   "metadata": {},
   "source": [
    "Derivamos ambas partes de la igualdad para las 2 ecuaciones, quedando\n",
    "\n",
    "$$\n",
    "\\begin{pmatrix}\n",
    "(I_{nxn} - A^{rr}) \\Delta p^r - A^{rs} \\Delta p^s\n",
    "\\end{pmatrix}\n",
    "\n",
    "=\n",
    "\n",
    "\\Delta d^r \n",
    "\n",
    "$$\n",
    "$$\n",
    "\n",
    "\\begin{pmatrix}\n",
    "-A^{sr} \\Delta p^r + (I_{mxm} - A^{ss}) \\Delta p^s\n",
    "\\end{pmatrix}\n",
    "\n",
    "=\n",
    "\n",
    "\n",
    "\\Delta d^s \n",
    "\n",
    "$$\n",
    "\n"
   ]
  },
  {
   "cell_type": "markdown",
   "id": "55c7ba81",
   "metadata": {},
   "source": [
    "Tenemos como dato que $ \\Delta d^s = 0 $, Esto implica que\n",
    "$$\n",
    "(I_{mxm} - A^{ss}) \\Delta p^s = A^{sr} \\Delta p^r\n",
    "$$\n",
    "\n",
    "$$\n",
    "\\Delta p^s = (I_{mxm} - A^{ss})^{-1} A^{sr} \\Delta p^r \n",
    "$$\n"
   ]
  },
  {
   "cell_type": "markdown",
   "id": "394bb8c9",
   "metadata": {},
   "source": [
    "Reemplazamos en la otra ecuacion\n",
    "\n",
    "$$\n",
    "\n",
    "\\begin{pmatrix}\n",
    "(I_{nxn} - A^{rr}) \\Delta p^r - A^{rs} \n",
    "(I_{mxm} - A^{ss})^{-1} A^{sr} \\Delta p^r \n",
    "\\end{pmatrix}\n",
    "\n",
    "=\n",
    "\n",
    "\\Delta d^r \n",
    "\n",
    "$$\n"
   ]
  },
  {
   "cell_type": "markdown",
   "id": "a93d5714",
   "metadata": {},
   "source": [
    "Y despejamos el resultado\n",
    "\n",
    "$$ \n",
    "\\Delta p^r ( (I_{nxn} - A^{rr}) - A^{rs} \n",
    "(I_{mxm} - A^{ss})^{-1} A^{sr} ) = \\Delta d^r \n",
    "$$\n",
    "\n",
    "$$\n",
    "\\Delta p^r = ( (I_{nxn} - A^{rr}) - A^{rs} (I_{mxm} - A^{ss}) ^ {-1} A^{sr} ) ^ {-1} \\Delta d^r \n",
    "$$\n"
   ]
  },
  {
   "cell_type": "markdown",
   "id": "95c24c95",
   "metadata": {},
   "source": [
    "Que, usando la asociatividad en la adición en matrices es igual al de la consigna\n",
    "\n",
    "$$\n",
    "\\Delta p^r = ( I_{nxn} - A^{rr} - A^{rs} (I_{mxm} - A^{ss}) ^ {-1} A^{sr} ) ^ {-1} \\Delta d^r \n",
    "$$"
   ]
  },
  {
   "cell_type": "markdown",
   "id": "cf23a610",
   "metadata": {},
   "source": [
    "### Consigna 7 -  "
   ]
  },
  {
   "cell_type": "code",
   "execution_count": null,
   "id": "c9b39032-c037-452c-aea8-bd931e65c0d9",
   "metadata": {},
   "outputs": [],
   "source": [
    "import pandas as pd\n",
    "import numpy as np\n",
    "\n",
    "###############  Codigo para el armado de dataframes ############################\n",
    "\n",
    "#df = pd.read_csv('Downloads/matrizlatina2011_compressed_0.csv')  \n",
    "#PER = df[df['Country_iso3'] == 'PER']    \n",
    "#Nic = df[df['Country_iso3'] == 'NIC']\n",
    "#PER = pd.read_csv('ALC/peru.csv')  \n",
    "#NIC = pd.read_csv('ALC/Nicaragua.csv') \n"
   ]
  },
  {
   "cell_type": "code",
   "execution_count": null,
   "id": "bec64331-568c-4548-bacc-5b598d8bfb8a",
   "metadata": {},
   "outputs": [],
   "source": [
    "\n",
    "# Generar vectores de 'producción total' y submatrices Z\n",
    "Pp = PER['Output'].values\n",
    "Pn = NIC['Output'].values\n",
    "Zpn = PER.filter(like='NIC').drop([\"CONS_NIC\", \"GFCF_NIC\"], axis=1).values\n",
    "Zpp = PER.filter(like='PER').drop([\"CONS_PER\", \"GFCF_PER\"], axis=1).values\n",
    "Znn = NIC.filter(like='NIC').drop([\"CONS_NIC\", \"GFCF_NIC\"], axis=1).values\n",
    "Znp = NIC.filter(like='PER').drop([\"CONS_PER\", \"GFCF_PER\"], axis=1).values\n"
   ]
  },
  {
   "cell_type": "code",
   "execution_count": null,
   "id": "14b9bb20-73aa-4e0a-9ff8-4d730562efca",
   "metadata": {},
   "outputs": [],
   "source": [
    "import matplotlib.pyplot as plt\n",
    "\n",
    "# Función para evitar ceros en la producción\n",
    "def ajustar(P):\n",
    "    for i in range(len(P)):\n",
    "        if P[i] == 0:\n",
    "            P[i] = 1\n",
    "    return P\n",
    "# Ajustamos producciones\n",
    "Pn = ajustar(Pn)\n",
    "Pp = ajustar(Pp)\n",
    "# Calculamos matrices inversas\n",
    "PnInv = np.diag(1 / Pn)\n",
    "PpInv = np.diag(1 / Pp)\n",
    "# Construimos matriz A\n",
    "App = Zpp @ PpInv\n",
    "Apn = Zpn @ PnInv\n",
    "Anp = Znp @ PpInv\n",
    "Ann = Znn @ PnInv\n",
    "A = np.block([[App, Apn], [Anp, Ann]])\n",
    "\n",
    "#Construir matriz Leontief y aplicar shocks \n",
    "# Calcular demanda final para el pais P1 (Perú)(SIN SHOCK)\n",
    "I = np.eye(A.shape[0])  # Matriz identidad\n",
    "#Shock  negativo\n",
    "delta_d = np.zeros(d.shape)\n",
    "delta_d[5]= -d[5]*0.10 \n",
    "#shock positivo\n",
    "for i in range(6,9):\n",
    "    porcentaje = 0.033*d[i]\n",
    "    delta_d[i]+= porcentaje\n",
    "\n",
    "d_prima = d + delta_d\n",
    "\n",
    "#Produccion sin shocks\n",
    "p = np.concatenate([Pp, Pn])\n",
    "#Produccion despues del shock P= (I-A) * d_prima\n",
    "L, U, P = calcularLU(I- A)\n",
    "Leontief = (inversaLU(L,U,P))\n",
    "p_prima = Leontief @ d_prima\n",
    "\n",
    "delta_p = p_prima - p\n",
    "\n",
    "########## Grafico comparandos la produccion con shock vs sin shock\n",
    "prod_sin_shock =  p[:10] \n",
    "prod_con_shock =  p_prima[:10] \n",
    "indices = np.arange(1, 11)\n",
    "plt.figure(figsize=(10, 6))\n",
    "plt.plot(indices, prod_sin_shock, marker='o', label='Producción sin shocks (p)')\n",
    "plt.plot(indices, prod_con_shock, marker='o', label='Producción después del shock (p_prima)')\n",
    "plt.title('Comparación de Producción: p vs p_prima')\n",
    "plt.xlabel('Sector')\n",
    "plt.ylabel('Valor')\n",
    "plt.xticks(indices)  \n",
    "plt.legend()\n",
    "plt.grid()\n",
    "plt.show()\n"
   ]
  },
  {
   "cell_type": "markdown",
   "id": "a862e495-049a-40d8-b225-0c6c2efbf572",
   "metadata": {},
   "source": [
    "Como podemos observar en los primeros diez componentes del vector p y p_prima\n",
    "que coinciden con la produccion de cada sector, no se aprecia un diferencia significativa luego de aplicar el shock\n",
    "en la demanda. Sin embargo podriamos llegar a notar una leve diferencia en los sectores 6,7 y 8 que fue \n",
    "donde se aplico el shock\n"
   ]
  },
  {
   "cell_type": "code",
   "execution_count": null,
   "id": "1cc19c26-70f7-4b89-a3fd-cf7d7d6ab222",
   "metadata": {},
   "outputs": [],
   "source": [
    "\n",
    "# -Modelo de región simple-\n",
    "# Peru \"pp\" es región R\n",
    "# Cálculo Demanda\n",
    "Ipp = np.eye(App.shape[0]) \n",
    "DppSinShock = (Ipp - App) @ Pp\n",
    "DppConShock = (Ipp - App) @ Pp\n",
    "DppConShock[0:40] += 1  # Demanda con shock arbitrario de 1.\n",
    "\n",
    "# Recalculo Producción\n",
    "Lpp, Upp, Ppp = calcularLU(Ipp - App)  # LU de Leontief Perú\n",
    "LeontiefInvpp = inversaLU(Lpp, Upp, Ppp)\n",
    "Producción = (LeontiefInvpp @ DppSinShock)  # ≈Pp\n",
    "ProducciónConShock = (LeontiefInvpp @ DppConShock)\n",
    "deltaPpp = ProducciónConShock - Producción\n",
    "\n",
    "# -Fórmula completa-\n",
    "# Peru \"pp\" sigue siendo región R & Nicaragua \"nn\" es región S\n",
    "\n",
    "# Calculo efectos de Ann en App segun la fórmula\n",
    "Inn = np.eye(Ann.shape[0])  \n",
    "Lnn,Unn,Pnn = calcularLU(Inn-Ann)\n",
    "LeontiefInvnn = inversaLU(Lnn,Unn,Pnn)\n",
    "AppC = (Ipp-App-Apn@LeontiefInvnn@Anp) # Leontief Perú Completa. \n",
    "\n",
    "#Mismos calculos, notar que AppC incluye Ipp (en los cálculos anteriores, App no la incluia)\n",
    "# Cálculo Demanda\n",
    "DppSinShockC = (AppC) @ Pp\n",
    "DppConShockC = (AppC) @ Pp\n",
    "DppConShockC[0:40] += 1  # Demanda con shock arbitrario de 1.\n",
    "\n",
    "# Recalculo Producción\n",
    "Lpp, Upp, Ppp = calcularLU(AppC)  # LU de Leontief Perú Completa\n",
    "LeontiefInvpp = inversaLU(Lpp, Upp, Ppp)\n",
    "Producción = (LeontiefInvpp @ DppSinShockC)  # ≈Pp\n",
    "ProducciónConShock = (LeontiefInvpp @ DppConShock)\n",
    "deltaPppC = ProducciónConShock - Producción\n",
    "\n",
    "# -Comparación de diferencias entre ΔP de formula simple & ΔPC de formula completa-\n",
    "\n",
    "print(np.isclose(deltaPpp, deltaPppC))\n",
    "DiferenciaEntreDeltas = deltaPppC - deltaPpp\n",
    "\n",
    "# Gráfico comparativo\n",
    "fig, axs = plt.subplots(1, 1, figsize=(12, 5))\n",
    "\n",
    "# Graficar la diferencia (Delta P)\n",
    "axs.plot(DiferenciaEntreDeltas, color='orange')\n",
    "axs.set_title('Cambio en ΔP entre fórmula simple y completa')\n",
    "axs.set_xlabel('Sectores')\n",
    "axs.set_ylabel('Δ Producción')\n",
    "\n",
    "plt.tight_layout()\n",
    "plt.show()"
   ]
  },
  {
   "cell_type": "markdown",
   "id": "a0f215fc",
   "metadata": {},
   "source": [
    "Notamos que el cambio de Producción $ \\Delta P $ por un shock de demanda $ \\Delta d $ no sufre una diferencia significativa al ser medido por el modelo de región simple y el que considera las relaciones interregionales. Esto representa que la Matriz insumo-producto de Perú tiene poca dependencia de la de Nicaragua."
   ]
  }
 ],
 "metadata": {
  "kernelspec": {
   "display_name": "Python 3 (ipykernel)",
   "language": "python",
   "name": "python3"
  },
  "language_info": {
   "codemirror_mode": {
    "name": "ipython",
    "version": 3
   },
   "file_extension": ".py",
   "mimetype": "text/x-python",
   "name": "python",
   "nbconvert_exporter": "python",
   "pygments_lexer": "ipython3",
   "version": "3.10.12"
  }
 },
 "nbformat": 4,
 "nbformat_minor": 5
}
