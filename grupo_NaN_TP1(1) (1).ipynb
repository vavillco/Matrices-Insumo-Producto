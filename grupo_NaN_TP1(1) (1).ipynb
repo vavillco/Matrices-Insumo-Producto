{
  "cells": [
    {
      "cell_type": "markdown",
      "id": "5c0cbb93-2880-4750-975d-11cce9f6b12c",
      "metadata": {
        "id": "5c0cbb93-2880-4750-975d-11cce9f6b12c"
      },
      "source": [
        "# Trabajo Práctico 1 - Matrices de Insumo Producto\n",
        "\n",
        "## Enunciado"
      ]
    },
    {
      "cell_type": "markdown",
      "id": "11f7face-a325-4e30-b13e-0c3d84280c5e",
      "metadata": {
        "id": "11f7face-a325-4e30-b13e-0c3d84280c5e"
      },
      "source": [
        "### Consigna 1 -"
      ]
    },
    {
      "cell_type": "markdown",
      "id": "e69c407d-9132-421c-8d02-508da3bb3ae6",
      "metadata": {
        "id": "e69c407d-9132-421c-8d02-508da3bb3ae6"
      },
      "source": [
        "Vamos a interpretar las posibles soluciones que podemos obtener del sistema $$ (I - A)\\cdot p =  d  $$ Para ello tendremos en cuenta que significa que una matriz sea inversible o no y como impacta esto en las soluciones de mi sistema de ecuaciones lineales.\n",
        "<p style=\"text-align: left;\">\n",
        "a) \\( (I - A) \\ \\text{es inversible} \\)\n",
        "</p>\n",
        "Si la matriz (I - A) tiene inversa esto significa que existe la matriz de Leontief, luego existe solucion unica para este sistema.\n",
        "<p></p>\n",
        "<p style=\"text-align: left;\">\n",
        "b) \\( (I - A) \\ \\text{es inversible y d = 0} \\)\n",
        "</p>\n",
        "En este caso existe matriz de Leontief pero mi sistema resulta en $p = (I - A)^{-1}\\cdot0 = L\\cdot0 = 0$. Entonces, podemos decir que no existe demanda externa y por lo tanto la produccion total es destinada a satisfacer la demanda interna , sin embargo esta produccion es cero por lo que la economia esta completamente inactiva.\n",
        "<p></p>\n",
        "<p style=\"text-align: left;\">\n",
        "c) \\( (I - A) \\ \\text{no es inversible} \\)\n",
        "</p>\n",
        "Al no existir inversa esto significa que no se puede calcular la matriz de Leontief. Esto tiene dos posibles conclusiones:  <p></p>\n",
        "  . El sistema no tiene solucion. <p></p>\n",
        "  . El sistema tiene soluciones cuando d es una combinación lineal de las columnas de (I - A), es decir cuando d pertece a la imagen de (I - A). Ademas como (I-A) es singular, la dimension del nucleo será mayor a cero y existe al menos un vector v ≠ 0  tal que (I-A)*v = 0 y por lo tanto toda solucion del sistema se puede escribir como p = p0 + v donde p0 es una solucion particular. Así se pueden generar infinitas soluciones.\n",
        "<p style=\"text-align: left;\">\n",
        "d) \\( (I - A) \\ \\text{no es inversible y d = 0} \\)\n",
        "</p>    \n",
        "Debido a que no existe matriz de Leontief y que d = 0, para este caso el sistema admite infinitas soluciones para p. Esto se puede explicar teniendo en cuenta el punto anterior. Como (I-A) es singular existe un nucleo no trivial y por lo tanto existen infinitos p ≠ 0 tal que (I-A)*p = 0\n",
        "\n"
      ]
    },
    {
      "cell_type": "markdown",
      "id": "6ea60699-4c07-40fb-8f71-ec4cacf32708",
      "metadata": {
        "id": "6ea60699-4c07-40fb-8f71-ec4cacf32708"
      },
      "source": [
        "### Consigna 2 -  "
      ]
    },
    {
      "cell_type": "code",
      "execution_count": 2,
      "id": "260b913f-d6d3-47b8-9431-7a64d6d037a5",
      "metadata": {
        "id": "260b913f-d6d3-47b8-9431-7a64d6d037a5"
      },
      "outputs": [],
      "source": [
        "from funciones import calcularLU\n",
        "from funciones import inversaLU\n",
        "from funciones import np"
      ]
    },
    {
      "cell_type": "markdown",
      "id": "b6527567-ea14-4fb0-8cbb-3faa67fee8c1",
      "metadata": {
        "id": "b6527567-ea14-4fb0-8cbb-3faa67fee8c1"
      },
      "source": [
        "---"
      ]
    },
    {
      "cell_type": "markdown",
      "id": "32157079-8455-448c-ace4-cd5986936a96",
      "metadata": {
        "id": "32157079-8455-448c-ace4-cd5986936a96"
      },
      "source": [
        "### Consigna 3 -  "
      ]
    },
    {
      "cell_type": "markdown",
      "id": "d36b16a8-c03b-4301-8e7d-113a815cf265",
      "metadata": {
        "id": "d36b16a8-c03b-4301-8e7d-113a815cf265"
      },
      "source": [
        "$$\n",
        "A = \\begin{pmatrix}\n",
        "0.3 & 0.0 & 0.1 \\\\\n",
        "0.05 & 1.0 & 0.2 \\\\\n",
        "0.1 & 0.15 & 0.1\n",
        "\\end{pmatrix}\n",
        ", \\quad\n",
        "d = \\begin{pmatrix}\n",
        "100 \\\\\n",
        "100 \\\\\n",
        "300\n",
        "\\end{pmatrix}\n",
        "$$\n"
      ]
    },
    {
      "cell_type": "code",
      "execution_count": 2,
      "id": "5be7f763-6647-4334-91bb-e647cedde20c",
      "metadata": {
        "id": "5be7f763-6647-4334-91bb-e647cedde20c",
        "outputId": "93dbccda-0df3-4567-cfc6-77dbe2661b97",
        "scrolled": true
      },
      "outputs": [
        {
          "name": "stdout",
          "output_type": "stream",
          "text": [
            "P = [   68.96551724 -5149.42528736  -517.24137931]\n"
          ]
        }
      ],
      "source": [
        "A = np.array([[0.3,0.0,0.1],[0.05,1.0,0.2],[0.1,0.15,0.1]])\n",
        "d = np.array([100,100,300])\n",
        "\n",
        "L,U,P = calcularLU(np.eye(3) - A)\n",
        "\n",
        "print(\"P = \" + str(inversaLU(L, U, P)@d))\n"
      ]
    },
    {
      "cell_type": "markdown",
      "id": "b41cb359-312c-4fdd-a873-7dbd86fead7d",
      "metadata": {
        "id": "b41cb359-312c-4fdd-a873-7dbd86fead7d"
      },
      "source": [
        "a) En el contexto de un modelo de insumo-producto como el de Leontief, el vector de producción\n",
        "P indica la cantidad de bienes o servicios que deben producirse en cada sector para satisfacer la demanda interna y externa. En nuestro caso, podemos analizar los requerimientos de cada sector de\n",
        "P de la siguiente forma:\n",
        "\n",
        "Primer sector (68.97): El primer valor del vector indica que el primer sector debe producir 68.97 unidades. Esta cantidad parece cubrir tanto la demanda externa como los insumos que requieren los otros sectores. Sin embargo, aunque el signo es positivo, no necesariamente implica un superávit, ya que este sector también depende de insumos del tercer sector, que está en déficit. Por lo tanto, la producción del primer sector no es completamente sostenible.\n",
        "\n",
        "Segundo sector (−5149.43): Un valor negativo sugiere que la producción en el segundo sector es insuficiente para cubrir tanto la demanda externa como los insumos requeridos por otros sectores. Este déficit refleja una dependencia significativa de otros sectores hacia el segundo sector. Por tanto, este sector está en déficit.\n",
        "\n",
        "Tercer sector (−517.24): Similar al segundo sector, este valor negativo indica un consumo neto de insumos del tercer sector. El sistema consume 517.24 unidades del tercer sector para satisfacer las demandas de otros sectores o la demanda final. Esto también muestra un déficit en este sector.\n",
        "\n",
        "En resumen, la clasificación de un sector en déficit o superávit no puede justificarse solo con el signo de cada valor de producción. Aunque el primer sector tenga un valor positivo, sigue dependiendo de sectores en déficit, lo que hace que el sistema, en su conjunto, no sea coherente.\n",
        "\n",
        "b) La característica de la matriz de Leontief $ 𝐿=(𝐼−𝐴) $\n",
        "que lleva a esta solución única es su invertibilidad, es decir, su determinante es distinto de cero. Esto garantiza que existe un único vector de producción posible. Sin embargo, aunque la solución es única, no significa que sea realizable en la práctica. De hecho, los resultados muestran que la economía \"se rompe\", ya que algunos sectores presentan déficits insostenibles. Esto contradice la idea de que la economía descrita por la matriz\n",
        "A es autosuficiente o sostenible, como ya se mencionó en el análisis del apartado a).\n"
      ]
    },
    {
      "cell_type": "markdown",
      "id": "f2ef586f",
      "metadata": {
        "id": "f2ef586f"
      },
      "source": [
        "### Consigna 4 -  "
      ]
    },
    {
      "cell_type": "markdown",
      "id": "bdf31e67-2847-4ac4-9687-52c7df527440",
      "metadata": {
        "id": "bdf31e67-2847-4ac4-9687-52c7df527440"
      },
      "source": [
        "Ante un shock de demanda externa $ \\Delta d = \\begin{pmatrix} 0 \\\\ 0 \\\\ 1 \\end{pmatrix} $ , podriamos redefinir la demanda final como la demanda inicial mas el shock tal que :\n",
        "\n",
        "$$ d' = d + \\Delta d $$\n",
        "\n",
        "por lo tanto, la produccion con esta demanda final sera : $$ p' = L \\cdot d' $$\n",
        "pero entonces :\n",
        "$$ p' =  L \\cdot (d + \\Delta d)$$\n",
        "$$ p' = L\\cdot d + L \\cdot\\Delta d$$\n",
        "recordemos que la produccion incial p es : $$p = L\\cdot d$$ por lo tanto :\n",
        "$$ p' = p + L\\cdot\\Delta d$$\n",
        "$$p' - p = L\\cdot\\Delta d$$\n",
        "\n",
        "definimos lo siguiente como la diferencia de produccion y por lo tanto :\n",
        " $$ p'-p =  \\Delta p $$  \n",
        "\n",
        "$$\\Delta p = L\\cdot\\Delta d$$\n",
        "\n",
        "Ahora, teniendo en cuenta que $ \\Delta d $ solo tiene un valor en la tercer columna, el shock de demanda se concentra en el tercer producto, pero genera cambios en la producción de todos los demás.\n",
        "\n",
        "Analíticamente, siendo la matriz $ L $ la matriz de Leontief:\n",
        "\n",
        "$$\n",
        "L = \\begin{pmatrix}\n",
        "L_{11} & L_{12} & L_{13} \\\\\n",
        "L_{21} & L_{22} & L_{23} \\\\\n",
        "L_{31} & L_{32} & L_{33}\n",
        "\\end{pmatrix}\n",
        "$$\n",
        "\n",
        "El cambio en la producción se calcula como:\n",
        "\n",
        "$$ \\Delta p = L \\cdot \\begin{pmatrix} 0 \\\\ 0 \\\\ 1 \\end{pmatrix} = \\begin{pmatrix} L_{13} \\\\ L_{23} \\\\ L_{33} \\end{pmatrix} $$\n",
        "\n",
        "Esto coincide con la observación anterior: un shock de demanda en el tercer producto afecta a la producción de todos los demás."
      ]
    },
    {
      "cell_type": "markdown",
      "id": "624aa6d4",
      "metadata": {
        "id": "624aa6d4"
      },
      "source": [
        "### Consigna 5 -  "
      ]
    },
    {
      "cell_type": "code",
      "execution_count": 3,
      "id": "121d098b",
      "metadata": {
        "colab": {
          "base_uri": "https://localhost:8080/"
        },
        "id": "121d098b",
        "outputId": "1678af0f-cc18-410d-ae2a-08423cd2caa6"
      },
      "outputs": [
        {
          "ename": "NameError",
          "evalue": "name 'Ac' is not defined",
          "output_type": "error",
          "traceback": [
            "\u001b[1;31m---------------------------------------------------------------------------\u001b[0m",
            "\u001b[1;31mNameError\u001b[0m                                 Traceback (most recent call last)",
            "Cell \u001b[1;32mIn[3], line 8\u001b[0m\n\u001b[0;32m      6\u001b[0m ProdTotal \u001b[38;5;241m=\u001b[39m np\u001b[38;5;241m.\u001b[39mdiag(p)\n\u001b[0;32m      7\u001b[0m \u001b[38;5;66;03m## Calculamos la matriz A con coeficientes tecnicos, A = Z@P^-1, utilizando las funciones calcularLU e inversaLU\u001b[39;00m\n\u001b[1;32m----> 8\u001b[0m L, U, P \u001b[38;5;241m=\u001b[39m calcularLU(ProdTotal)\n\u001b[0;32m      9\u001b[0m pInv \u001b[38;5;241m=\u001b[39m (inversaLU(L,U,P))\n\u001b[0;32m     10\u001b[0m A \u001b[38;5;241m=\u001b[39m Z\u001b[38;5;129m@pInv\u001b[39m\n",
            "File \u001b[1;32mc:\\Users\\valen\\Downloads\\funciones.py:17\u001b[0m, in \u001b[0;36mcalcularLU\u001b[1;34m(A)\u001b[0m\n\u001b[0;32m     14\u001b[0m L \u001b[38;5;241m=\u001b[39m np\u001b[38;5;241m.\u001b[39meye(n) \n\u001b[0;32m     16\u001b[0m \u001b[38;5;28;01mfor\u001b[39;00m i \u001b[38;5;129;01min\u001b[39;00m \u001b[38;5;28mrange\u001b[39m(\u001b[38;5;241m0\u001b[39m, n):   \n\u001b[1;32m---> 17\u001b[0m     max_row \u001b[38;5;241m=\u001b[39m np\u001b[38;5;241m.\u001b[39margmax(np\u001b[38;5;241m.\u001b[39mabs(Ac[i:n, i])) \u001b[38;5;241m+\u001b[39m i\n\u001b[0;32m     18\u001b[0m     \u001b[38;5;28;01mif\u001b[39;00m i \u001b[38;5;241m!=\u001b[39m max_row:\n\u001b[0;32m     19\u001b[0m         \u001b[38;5;66;03m# Intercambia las filas en Ac\u001b[39;00m\n\u001b[0;32m     20\u001b[0m         Ac[[i, max_row], :] \u001b[38;5;241m=\u001b[39m Ac[[max_row, i], :]\n",
            "\u001b[1;31mNameError\u001b[0m: name 'Ac' is not defined"
          ]
        }
      ],
      "source": [
        "## Sea Z mi matriz compuesta por la demanda interna de cada sector\n",
        "Z = np.array([[350,0,0],[50, 250, 150], [200,150,550]])\n",
        "## vector p que muestra la produccion total por cada sector\n",
        "p = np.array([1000, 500, 1000])\n",
        "## Armamos mi matriz diagonal P\n",
        "ProdTotal = np.diag(p)\n",
        "## Calculamos la matriz A con coeficientes tecnicos, A = Z@P^-1, utilizando las funciones calcularLU e inversaLU\n",
        "L, U, P = calcularLU(ProdTotal)\n",
        "pInv = (inversaLU(L,U,P))\n",
        "A = Z@pInv\n",
        "print(A)\n",
        "## Calculamos la matriz de Leontief: L=(I - A)^-1\n",
        "## (I - A)\n",
        "I = np.eye(Z.shape[0])\n",
        "Lp = I - A\n",
        "## Matriz de Leontief\n",
        "L, U, P = calcularLU(Lp)\n",
        "matriz_Leontief = (inversaLU(L,U,P))\n",
        "print(matriz_Leontief)"
      ]
    },
    {
      "cell_type": "markdown",
      "id": "5074c6a8",
      "metadata": {
        "id": "5074c6a8"
      },
      "source": [
        "### Consigna 6 -"
      ]
    },
    {
      "cell_type": "markdown",
      "id": "ead334df",
      "metadata": {
        "id": "ead334df"
      },
      "source": [
        "A partir de la fórmula\n",
        "$$\n",
        "\n",
        "\\begin{pmatrix}\n",
        "\n",
        "\\begin{pmatrix}\n",
        "I_{n \\times n} & 0_{n \\times m} \\\\\n",
        "0_{m \\times n} & I_{m \\times m} \\\\\n",
        "\\end{pmatrix}\n",
        "-\n",
        "\\begin{pmatrix}\n",
        "A^{rr} & A^{rs} \\\\\n",
        "A^{sr} & A^{ss} \\\\\n",
        "\\end{pmatrix}\n",
        "\n",
        "\\end{pmatrix}\n",
        "\n",
        "\\begin{pmatrix} p^r \\\\ p^s \\end{pmatrix}\n",
        "\n",
        "=\n",
        "\n",
        "\\begin{pmatrix} d^r \\\\ d^s \\end{pmatrix}\n",
        "\n",
        "$$\n",
        "Queremos encontrar $ \\Delta p^r$\n"
      ]
    },
    {
      "cell_type": "markdown",
      "id": "3c22a502",
      "metadata": {
        "id": "3c22a502"
      },
      "source": [
        "Para despejar, restamos a las Identidades $ I $ las matrices $ A $ y luego, aplicamos distributiva para los vectores de producción $ p $\n",
        "\n",
        "$$\n",
        "\n",
        "\\begin{pmatrix}\n",
        "(I_{n \\times n} - A^{rr}) p^r - A^{rs} p^s \\\\\n",
        "- A^{sr} p^r + (I_{m \\times m} - A^{ss}) p^s \\\\\n",
        "\\end{pmatrix}\n",
        "\n",
        "=\n",
        "\n",
        "\\begin{pmatrix} d^r \\\\ d^s \\end{pmatrix}\n",
        "\n",
        "$$\n"
      ]
    },
    {
      "cell_type": "markdown",
      "id": "45639801",
      "metadata": {
        "id": "45639801"
      },
      "source": [
        "Separamos las 2 filas en 2 ecuaciones para formar el sistema\n",
        "\n",
        "$$ (I_{n \\times n} - A^{rr}) p^r - A^{rs} p^s = d^r $$\n",
        "$$ -A^{sr} p^r + (I_{m \\times m} - A^{ss}) p^s = d^s $$"
      ]
    },
    {
      "cell_type": "markdown",
      "id": "e2558584",
      "metadata": {},
      "source": [
        "Recordemos que $ A^{rr} \\in \\mathbb{R}^{n \\times n} $ y que $ A^{sr} \\in \\mathbb{R}^{m \\times n} $, por lo que se permite el producto de matrices con $ p^s \\in \\mathbb{R}^{n \\times n} $\n",
        "\n",
        "Pasa lo mismo para la segunda ecuación: $ A^{rr} \\in \\mathbb{R}^{m \\times m} $ y $ A^{sr} \\in \\mathbb{R}^{n \\times m} $ son multiplicables por $ p^r \\in \\mathbb{R}^{m \\times m} $"
      ]
    },
    {
      "cell_type": "markdown",
      "id": "91c95d18",
      "metadata": {},
      "source": [
        "Vamos a diferenciar ambas partes de la ecuación en función del cambio de demanda de ambas regiones\n",
        "\n",
        "$$ \\Delta ( (I_{n \\times n} - A^{rr}) p^r - A^{rs}  p^s ) = \\Delta d^r $$\n",
        "\n",
        "$$ \\Delta ( A^{sr} p^r + (I_{m \\times m} - A^{ss}) p^s ) = \\Delta d^s $$\n",
        "\n",
        "En la parte izquierda de ambas ecuaciones, distribuimos el diferencial en la resta\n",
        "\n",
        "$$ \\Delta ( (I_{n \\times n} - A^{rr}) p^r ) - \\Delta ( A^{rs}  p^s ) = \\Delta d^r $$\n",
        "\n",
        "$$ \\Delta ( A^{sr} p^r ) + \\Delta ( (I_{m \\times m} - A^{ss}) p^s )  = \\Delta d^s $$\n",
        "\n",
        "Ahora, usamos que $ A$  y $ I $, que representan coeficientes técnicos y la identidad respectivamente, no dependen de las variaciones en la demanda. Esto implica que \n",
        "\n",
        "$$ \\Delta I_{n \\times n} = \\Delta A^{rr} = \\Delta A^{rs} = \\Delta A^{sr} = \\Delta A^{ss} = \\Delta I_{m \\times m} = 0 $$\n",
        "\n",
        "O sea que, usando regla del producto en la primer ecuación\n",
        "\n",
        "$$ \\Delta ( (I_{n \\times n} - A^{rr}) p^r ) = \\Delta(I_{n \\times n} - A^{rr}) p^r + (I_{n \\times n} - A^{rr}) \\Delta p^r = 0 \\cdot p^r + (I_{n \\times n} - A^{rr}) \\Delta p^r = (I_{n \\times n} - A^{rr}) \\Delta p^r $$\n",
        "$$ \\Delta (A^{rs} p^s) = \\Delta A^{rs} p^s + A^{rs} \\Delta p^s = 0 \\cdot p^s + A^{rs} \\Delta p^s = A^{rs} \\Delta p^s$$\n",
        "\n",
        "Y, con el mismo procedimiento en la segunda ecuación\n",
        "\n",
        "$$ \\Delta (A^{sr} p^r) = A^{sr} \\Delta p^r $$\n",
        "$$ \\Delta ( (I_{m \\times m} - A^{ss}) p^s ) = (I_{m \\times m} - A^{ss}) \\Delta p^s $$"
      ]
    },
    {
      "cell_type": "markdown",
      "id": "4ff5ad7b",
      "metadata": {
        "id": "4ff5ad7b"
      },
      "source": [
        "Volviendo a juntar el sistema, queda: \n",
        "$$ (I_{n \\times n} - A^{rr}) \\Delta p^r - A^{rs} \\Delta p^s = \\Delta d^r $$\n",
        "$$ -A^{sr} \\Delta p^r + (I_{m \\times m} - A^{ss}) \\Delta p^s = \\Delta d^s $$"
      ]
    },
    {
      "cell_type": "markdown",
      "id": "55c7ba81",
      "metadata": {
        "id": "55c7ba81"
      },
      "source": [
        "Tenemos como dato que $ \\Delta d^s = 0 $, Esto implica que\n",
        "$$ (I_{m \\times m} - A^{ss}) \\Delta p^s = A^{sr} \\Delta p^r $$\n",
        "$$ \\Delta p^s = (I_{m \\times m} - A^{ss})^{-1} A^{sr} \\Delta p^r $$"
      ]
    },
    {
      "cell_type": "markdown",
      "id": "394bb8c9",
      "metadata": {
        "id": "394bb8c9"
      },
      "source": [
        "Reemplazamos en la otra ecuacion\n",
        "\n",
        "$$ (I_{n \\times n} - A^{rr}) \\Delta p^r - A^{rs}\n",
        "(I_{m \\times m} - A^{ss})^{-1} A^{sr} \\Delta p^r\n",
        "= \\Delta d^r $$\n"
      ]
    },
    {
      "cell_type": "markdown",
      "id": "a93d5714",
      "metadata": {
        "id": "a93d5714"
      },
      "source": [
        "Y despejamos el resultado\n",
        "\n",
        "$$\n",
        "\\Delta p^r ( (I_{n \\times n} - A^{rr}) - A^{rs}\n",
        "(I_{m \\times m} - A^{ss})^{-1} A^{sr} )\n",
        "= \\Delta d^r\n",
        "$$\n",
        "\n",
        "$$\n",
        "\\Delta p^r = ( (I_{n \\times n} - A^{rr}) - A^{rs} (I_{m \\times m} - A^{ss}) ^ {-1} A^{sr} ) ^ {-1} \\Delta d^r\n",
        "$$\n"
      ]
    },
    {
      "cell_type": "markdown",
      "id": "95c24c95",
      "metadata": {
        "id": "95c24c95"
      },
      "source": [
        "Que, usando la asociatividad en la adición en matrices es igual al de la consigna\n",
        "\n",
        "$$\n",
        "\\Delta p^r = ( I_{n \\times n} - A^{rr} - A^{rs} (I_{m \\times m} - A^{ss}) ^ {-1} A^{sr} ) ^ {-1} \\Delta d^r\n",
        "$$"
      ]
    },
    {
      "cell_type": "markdown",
      "id": "cf23a610",
      "metadata": {
        "id": "cf23a610"
      },
      "source": [
        "### Consigna 7 -  "
      ]
    },
    {
      "cell_type": "code",
      "execution_count": null,
      "id": "c9b39032-c037-452c-aea8-bd931e65c0d9",
      "metadata": {
        "id": "c9b39032-c037-452c-aea8-bd931e65c0d9"
      },
      "outputs": [],
      "source": [
        "import pandas as pd\n",
        "import numpy as np\n",
        "import matplotlib.pyplot as plt\n",
        "###############  Codigo para el armado de dataframes ############################\n",
        "\n",
        "#df = pd.read_csv('Downloads/matrizlatina2011_compressed_0.csv')\n",
        "#PER = df[df['Country_iso3'] == 'PER']\n",
        "#NIC = df[df['Country_iso3'] == 'NIC']\n"
      ]
    },
    {
      "cell_type": "code",
      "execution_count": null,
      "id": "bec64331-568c-4548-bacc-5b598d8bfb8a",
      "metadata": {
        "id": "bec64331-568c-4548-bacc-5b598d8bfb8a"
      },
      "outputs": [],
      "source": [
        "\n",
        "# Generar vectores de 'producción total' y submatrices Z\n",
        "Pp = PER['Output'].values\n",
        "Pn = NIC['Output'].values\n",
        "Zpn = PER.filter(like='NIC').drop([\"CONS_NIC\", \"GFCF_NIC\"], axis=1).values\n",
        "Zpp = PER.filter(like='PER').drop([\"CONS_PER\", \"GFCF_PER\"], axis=1).values\n",
        "Znn = NIC.filter(like='NIC').drop([\"CONS_NIC\", \"GFCF_NIC\"], axis=1).values\n",
        "Znp = NIC.filter(like='PER').drop([\"CONS_PER\", \"GFCF_PER\"], axis=1).values\n"
      ]
    },
    {
      "cell_type": "code",
      "execution_count": null,
      "id": "14b9bb20-73aa-4e0a-9ff8-4d730562efca",
      "metadata": {
        "id": "14b9bb20-73aa-4e0a-9ff8-4d730562efca"
      },
      "outputs": [],
      "source": [
        "\n",
        "\n",
        "# Función para evitar ceros en la producción\n",
        "def ajustar(P):\n",
        "    for i in range(len(P)):\n",
        "        if P[i] == 0:\n",
        "            P[i] = 1\n",
        "    return P\n",
        "# Ajustamos producciones\n",
        "Pn = ajustar(Pn)\n",
        "Pp = ajustar(Pp)\n",
        "# Calculamos matrices inversas\n",
        "PnInv = np.diag(1 / Pn)\n",
        "PpInv = np.diag(1 / Pp)\n",
        "# Construimos matriz A\n",
        "App = Zpp @ PpInv\n",
        "Apn = Zpn @ PnInv\n",
        "Anp = Znp @ PpInv\n",
        "Ann = Znn @ PnInv\n",
        "A = np.block([[App, Apn], [Anp, Ann]])\n",
        "# Produccion total\n",
        "p = np.concatenate([Pp, Pn])\n",
        "#######################################################\n",
        "# Calculo de deltap\n",
        "# Sea d = App @ Pp mi demanda inicial sin shock\n",
        "d = App @ Pp\n",
        "#Shock  negativo\n",
        "delta_d = np.zeros(d.shape)\n",
        "delta_d[5]= -d[5]*0.10\n",
        "#shock positivo\n",
        "for i in range(6,9):\n",
        "    porcentaje = 0.033*d[i]\n",
        "    delta_d[i]+= porcentaje\n"
      ]
    },
    {
      "cell_type": "code",
      "execution_count": null,
      "id": "1cc19c26-70f7-4b89-a3fd-cf7d7d6ab222",
      "metadata": {
        "id": "1cc19c26-70f7-4b89-a3fd-cf7d7d6ab222"
      },
      "outputs": [],
      "source": [
        "\n",
        "# -Modelo de región simple-\n",
        "# Peru \"pp\" es región R\n",
        "# Cálculo Demanda\n",
        "Ipp = np.eye(App.shape[0])\n",
        "DppSinShock = (Ipp - App) @ Pp\n",
        "DppConShock = (Ipp - App) @ Pp\n",
        "DppConShock = delta_d  # Demanda con shock arbitrario de 1.\n",
        "\n",
        "# Recalculo Producción\n",
        "Lpp, Upp, Ppp = calcularLU(Ipp - App)  # LU de Leontief Perú\n",
        "LeontiefInvpp = inversaLU(Lpp, Upp, Ppp)\n",
        "Producción = (LeontiefInvpp @ DppSinShock)  # ≈Pp\n",
        "ProducciónConShock = (LeontiefInvpp @ DppConShock)\n",
        "deltaPpp = ProducciónConShock - Producción\n",
        "\n",
        "# -Fórmula completa-\n",
        "# Peru \"pp\" sigue siendo región R & Nicaragua \"nn\" es región S\n",
        "\n",
        "# Calculo efectos de Ann en App segun la fórmula\n",
        "Inn = np.eye(Ann.shape[0])\n",
        "Lnn,Unn,Pnn = calcularLU(Inn-Ann)\n",
        "LeontiefInvnn = inversaLU(Lnn,Unn,Pnn)\n",
        "AppC = (Ipp-App-Apn@LeontiefInvnn@Anp) # Leontief Perú Completa.\n",
        "\n",
        "#Mismos calculos, notar que AppC incluye Ipp (en los cálculos anteriores, App no la incluia)\n",
        "# Cálculo Demanda\n",
        "DppSinShockC = (AppC) @ Pp\n",
        "DppConShockC = (AppC) @ Pp\n",
        "DppConShockC = delta_d  # Demanda con shock arbitrario de 1.\n",
        "\n",
        "# Recalculo Producción\n",
        "Lpp, Upp, Ppp = calcularLU(AppC)  # LU de Leontief Perú Completa\n",
        "LeontiefInvpp = inversaLU(Lpp, Upp, Ppp)\n",
        "Producción = (LeontiefInvpp @ DppSinShockC)  # ≈Pp\n",
        "ProducciónConShock = (LeontiefInvpp @ DppConShock)\n",
        "deltaPppC = ProducciónConShock - Producción\n",
        "\n",
        "# -Comparación de diferencias entre ΔP de formula simple & ΔPC de formula completa-\n",
        "\n",
        "print(np.isclose(deltaPpp, deltaPppC))\n",
        "DiferenciaEntreDeltas = deltaPppC - deltaPpp\n",
        "\n",
        "# Crear figura y ejes\n",
        "fig, axs = plt.subplots(1, 1, figsize=(12, 5))\n",
        "# Graficar la diferencia en barras\n",
        "axs.bar(range(len(DiferenciaEntreDeltas)), DiferenciaEntreDeltas, color='orange')\n",
        "axs.set_title('Cambio en ΔP entre fórmula simple y completa')\n",
        "axs.set_xlabel('Sectores')\n",
        "axs.set_ylabel('Δ Producción')\n",
        "\n",
        "plt.tight_layout()\n",
        "plt.show()\n"
      ]
    },
    {
      "attachments": {
        "image.png": {
          "image/png": "[encoded data removed]"
        }
      },
      "cell_type": "markdown",
      "id": "0385c4c8",
      "metadata": {},
      "source": [
        "![image.png](attachment:image.png)"
      ]
    },
    {
      "cell_type": "markdown",
      "id": "a0f215fc",
      "metadata": {
        "id": "a0f215fc"
      },
      "source": [
        "Notamos que el cambio de Producción $ \\Delta P $ por un shock de demanda $ \\Delta d $ no sufre una diferencia significativa al ser medido por el modelo de región simple y el que considera las relaciones interregionales. Esto representa que la Matriz insumo-producto de Perú tiene poca dependencia de la de Nicaragua."
      ]
    }
  ],
  "metadata": {
    "colab": {
      "provenance": []
    },
    "kernelspec": {
      "display_name": "base",
      "language": "python",
      "name": "python3"
    },
    "language_info": {
      "codemirror_mode": {
        "name": "ipython",
        "version": 3
      },
      "file_extension": ".py",
      "mimetype": "text/x-python",
      "name": "python",
      "nbconvert_exporter": "python",
      "pygments_lexer": "ipython3",
      "version": "3.12.4"
    }
  },
  "nbformat": 4,
  "nbformat_minor": 5
}
