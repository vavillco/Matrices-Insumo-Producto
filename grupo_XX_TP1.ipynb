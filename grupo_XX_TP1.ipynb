{
  "metadata": {
    "kernelspec": {
      "name": "python",
      "display_name": "Python (Pyodide)",
      "language": "python"
    },
    "language_info": {
      "codemirror_mode": {
        "name": "python",
        "version": 3
      },
      "file_extension": ".py",
      "mimetype": "text/x-python",
      "name": "python",
      "nbconvert_exporter": "python",
      "pygments_lexer": "ipython3",
      "version": "3.8"
    }
  },
  "nbformat_minor": 5,
  "nbformat": 4,
  "cells": [
    {
      "id": "5c0cbb93-2880-4750-975d-11cce9f6b12c",
      "cell_type": "markdown",
      "source": "# Trabajo Práctico 1 - Matrices de Insumo Producto\n\n## Enunciado",
      "metadata": {},
      "attachments": {}
    },
    {
      "id": "11f7face-a325-4e30-b13e-0c3d84280c5e",
      "cell_type": "markdown",
      "source": "### Consigna 1 - ",
      "metadata": {}
    },
    {
      "id": "e69c407d-9132-421c-8d02-508da3bb3ae6",
      "cell_type": "markdown",
      "source": "Vamos a interpretar las posibles soluciones que podemos obtener del sistema $$ p = (I - A)^{-1} d = Ld $$ Para ello tendremos en cuenta que significa que una matriz sea inversible o no y como impacta esto en las soluciones de mi sistema de ecuaciones lineales.\n<p style=\"text-align: left;\">\na) \\( (I - A) \\ \\text{es inversible} \\)\n</p>\nSi la matriz (I - A) tiene inversa esto significa que existe la matriz de Leontief, luego existe solucion unica para este sistema.\n<p></p>\n<p style=\"text-align: left;\">\nb) \\( (I - A) \\ \\text{es inversible y d = 0} \\)\n</p>\nEn este caso existe matriz de Leontief pero mi sistema resulta en $p = (I - A)^{-1}\\cdot0 = L\\cdot0 = 0$  Podemos decir que no existe demanda externa en este caso y que la produccion total es destinada a satisfacer la demanda interna.\n<p></p>\n<p style=\"text-align: left;\">\nc) \\( (I - A) \\ \\text{no es inversible} \\)\n</p>\nAl no existir inversa esto significa que no se puede calcular la matriz de Leontief. Esto tiene dos posibles conclusiones:  <p></p> \n  . El sistema no tiene solucion. <p></p> \n  . Existen infinitas soluciones debido que hay dependencia lineal entre las ecuaciones de mi sistema. Esto puede ocurrir debido a una relacion entre sectores que determinan que no hay unica solucion.\n    \n\n\n",
      "metadata": {}
    },
    {
      "id": "6ea60699-4c07-40fb-8f71-ec4cacf32708",
      "cell_type": "markdown",
      "source": "### Consigna 2 -  ",
      "metadata": {}
    },
    {
      "id": "260b913f-d6d3-47b8-9431-7a64d6d037a5",
      "cell_type": "code",
      "source": "##Codigo a arreglar, funciona\n## pero devuelve cualquier cosa en la posicion a_nn de la matriz U \n##?????\n\ndef elim_gaussiana(A):\n    cant_op = 0\n    m=A.shape[0]\n    n=A.shape[1]\n    Ac = A.copy()\n    \n    if m!=n:\n        print('Matriz no cuadrada')\n        return\n    \n    ## desde aqui -- CODIGO A COMPLETAR\n    C = np.eye(n) - np.eye(n)\n        \n    for i in range(0,n):\n        M = np.eye(n,n)\n        for j in range(0,n):\n            if i <j:\n                piv = Ac[j][i]/Ac[i][i]\n                M[j][i] = -piv\n                C[j][i] = piv\n        Ac = M@Ac        \n         \n\n    Ac = Ac + C\n    ## hasta aqui\n            \n    L = np.tril(Ac,-1) + np.eye(A.shape[0]) \n    U = np.triu(Ac)\n    \n    return L, U, cant_op",
      "metadata": {},
      "outputs": [],
      "execution_count": null
    },
    {
      "id": "b6527567-ea14-4fb0-8cbb-3faa67fee8c1",
      "cell_type": "markdown",
      "source": "---",
      "metadata": {}
    },
    {
      "id": "07f69bd8-9a22-4fa0-8e69-7e2580e80459",
      "cell_type": "code",
      "source": "",
      "metadata": {},
      "outputs": [],
      "execution_count": null
    },
    {
      "id": "19403a3c-422b-4bdb-85b3-058b90560067",
      "cell_type": "markdown",
      "source": "---",
      "metadata": {}
    }
  ]
}