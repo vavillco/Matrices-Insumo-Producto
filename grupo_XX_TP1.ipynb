{
  "metadata": {
    "kernelspec": {
      "name": "python",
      "display_name": "Python (Pyodide)",
      "language": "python"
    },
    "language_info": {
      "codemirror_mode": {
        "name": "python",
        "version": 3
      },
      "file_extension": ".py",
      "mimetype": "text/x-python",
      "name": "python",
      "nbconvert_exporter": "python",
      "pygments_lexer": "ipython3",
      "version": "3.8"
    }
  },
  "nbformat_minor": 5,
  "nbformat": 4,
  "cells": [
    {
      "id": "5c0cbb93-2880-4750-975d-11cce9f6b12c",
      "cell_type": "markdown",
      "source": "# Trabajo Práctico 1 - Matrices de Insumo Producto\n\n## Enunciado",
      "metadata": {},
      "attachments": {}
    },
    {
      "id": "11f7face-a325-4e30-b13e-0c3d84280c5e",
      "cell_type": "markdown",
      "source": "### Consigna 1 - ",
      "metadata": {}
    },
    {
      "id": "e69c407d-9132-421c-8d02-508da3bb3ae6",
      "cell_type": "markdown",
      "source": "Vamos a interpretar las posibles soluciones que podemos obtener del sistema $$ p = (I - A)^{-1} d = Ld $$ Para ello tendremos en cuenta que significa que una matriz sea inversible o no y como impacta esto en las soluciones de mi sistema de ecuaciones lineales.\n<p style=\"text-align: left;\">\na) \\( (I - A) \\ \\text{es inversible} \\)\n</p>\nSi la matriz (I - A) tiene inversa esto significa que existe la matriz de Leontief, luego existe solucion unica para este sistema.\n<p></p>\n<p style=\"text-align: left;\">\nb) \\( (I - A) \\ \\text{es inversible y d = 0} \\)\n</p>\nEn este caso existe matriz de Leontief pero mi sistema resulta en $p = (I - A)^{-1}\\cdot0 = L\\cdot0 = 0$  Podemos decir que no existe demanda externa en este caso y que la produccion total es destinada a satisfacer la demanda interna.\n<p></p>\n<p style=\"text-align: left;\">\nc) \\( (I - A) \\ \\text{no es inversible} \\)\n</p>\nAl no existir inversa esto significa que no se puede calcular la matriz de Leontief. Esto tiene dos posibles conclusiones:  <p></p> \n  . El sistema no tiene solucion. <p></p> \n  . Existen infinitas soluciones debido que hay dependencia lineal entre las ecuaciones de mi sistema. Esto puede ocurrir debido a una relacion entre sectores que determinan que no hay unica solucion.\n<p style=\"text-align: left;\">\nd) \\( (I - A) \\ \\text{no es inversible y d = 0} \\)\n</p>    \nDebido a que no existe matriz de Leontief y que d = 0, para este caso el sistema admite infinitas soluciones para p.\n\n",
      "metadata": {}
    },
    {
      "id": "6ea60699-4c07-40fb-8f71-ec4cacf32708",
      "cell_type": "markdown",
      "source": "### Consigna 2 -  ",
      "metadata": {}
    },
    {
      "id": "260b913f-d6d3-47b8-9431-7a64d6d037a5",
      "cell_type": "code",
      "source": "import numpy as np\nfrom scipy.linalg import solve_triangular\n\ndef calcularLU(A):\n    m = A.shape[0]\n    n = A.shape[1]\n    Ac = A.copy()\n    P = np.eye(n)\n    \n    if m != n:\n        print('Matriz no cuadrada')\n        return\n\n    L = np.eye(n) \n        \n    for i in range(0, n):   \n        max_row = np.argmax(np.abs(Ac[i:n, i])) + i\n        if i != max_row:\n            # Intercambia las filas en Ac\n            Ac[[i, max_row], :] = Ac[[max_row, i], :]\n            \n            # Intercambia las filas en P\n            P[[i, max_row], :] = P[[max_row, i], :]\n            \n            # Intercambia las filas en L hasta la columna i (excluyendo la diagonal)\n            if i > 0:\n                L[[i, max_row], :i] = L[[max_row, i], :i]\n            \n        for j in range(i+1, n):\n            piv = Ac[j][i] / Ac[i][i]\n            Ac[j] = Ac[j] - piv * Ac[i]\n            L[j][i] = piv\n\n    U = Ac\n    return L, U, P",
      "metadata": {
        "trusted": true
      },
      "outputs": [],
      "execution_count": 1
    },
    {
      "id": "b6527567-ea14-4fb0-8cbb-3faa67fee8c1",
      "cell_type": "markdown",
      "source": "---",
      "metadata": {}
    },
    {
      "id": "0cba432d-6576-4909-a1a1-027d40e88e1b",
      "cell_type": "code",
      "source": "\ndef inversaLU(L, U, P):\n    n = L.shape[0]\n    M_identidad = []\n    Inv = np.zeros((n, 0)) \n\n    if P is None:\n        P = np.eye(n)  # Si no se proporciona P, se usa la identidad\n\n    # Crear la matriz identidad\n    for i in range(n):\n        canonico = np.zeros(n)\n        canonico[i] = 1\n        M_identidad.append(canonico)\n\n    # Resolver el sistema para cada columna de la identidad permutada\n    for i in range(n):\n        b = P[:, i]  # Columna i de la matriz de permutación\n        x = solve_triangular(L, b, lower=True)\n        y = solve_triangular(U, x, lower=False)\n        Inv = np.column_stack((Inv, y))  # Agregar la columna de la inversa\n\n    return Inv\n",
      "metadata": {
        "trusted": true
      },
      "outputs": [],
      "execution_count": 2
    },
    {
      "id": "32157079-8455-448c-ace4-cd5986936a96",
      "cell_type": "markdown",
      "source": "### Consigna 3 -  ",
      "metadata": {}
    },
    {
      "id": "d36b16a8-c03b-4301-8e7d-113a815cf265",
      "cell_type": "markdown",
      "source": "$$\nA = \\begin{pmatrix}\n0.3 & 0.0 & 0.1 \\\\\n0.05 & 1.0 & 0.2 \\\\\n0.1 & 0.15 & 0.1\n\\end{pmatrix}\n, \\quad\nd = \\begin{pmatrix}\n100 \\\\\n100 \\\\\n300\n\\end{pmatrix}\n$$\n",
      "metadata": {}
    },
    {
      "id": "5be7f763-6647-4334-91bb-e647cedde20c",
      "cell_type": "code",
      "source": "A = np.array([[0.3,0.0,0.1],[0.05,1.0,0.2],[0.1,0.15,0.1]])\nd = np.array([100,100,300])\n\nL,U,P = calcularLU(np.eye(3) - A)\n\nprint(\"P = \" + str(inversaLU(L, U, P)@d))\n",
      "metadata": {
        "scrolled": true,
        "trusted": true
      },
      "outputs": [
        {
          "name": "stdout",
          "text": "P = [   68.96551724 -5149.42528736  -517.24137931]\n",
          "output_type": "stream"
        }
      ],
      "execution_count": 6
    },
    {
      "id": "b41cb359-312c-4fdd-a873-7dbd86fead7d",
      "cell_type": "markdown",
      "source": "a)\nEn el contexto de un modelo de insumo-producto como el de Leontief, el vector de producción 𝑃\nindica la cantidad de bienes o servicios que deben producirse en cada sector para satisfacer la demanda interna y externa.\nEn nuestro caso podemos explicar los requerimientos de cada sector de P de la siguiente forma :\n\nPrimer sector (68.97): El primer valor del vector indica que el primer sector debe producir 68.97 unidades. Esta cantidad satisface tanto la demanda externa como los insumos que requieren los otros sectores. Por lo tanto este sector se encuentra en superávit.\n\nSegundo sector (-5149.43): Un valor negativo sugiere que la producción en el segundo sector no solo es insuficiente para cubrir la demanda externa, sino que probablemente es un insumo significativo para otros sectores. Este déficit indica que se requiere una gran cantidad de productos del segundo sector como insumos para producir en otros sectores, lo que crea una dependencia significativa. Por lo tanto este sector se encuentra en déficit\n\nTercer sector (-517.24): Similar al segundo sector, este valor negativo implica un consumo neto de insumos del tercer sector. El sistema consume 517.24 unidades del tercer sector para satisfacer las demandas de otros sectores o la demanda final. Por lo tanto este sector se encuentra en déficit.\n\nb)\nLa caracteristica de la matriz de Leontief L = (I-A) que lleva a esta solucion unica, es que es inversible. Es decir, su determinante es distinto de cero, por lo que la economía descrita por la matriz A es autosuficiente y sostenible en su estructura. Esto implica que cada sector, aunque dependa de otros, es capaz de satisfacer la demanda externa y su demanda interna de insumos. Ademas, la estructura de las dependencias entre los sectores es tal que el sistema económico no cae en un ciclo de dependencia infinita entre sectores. Si el determinante fuera cero, indicaría que hay una dependencia excesiva o una redundancia en el sistema. Por ejemplo, un sector podría necesitar infinitas unidades de otro sector para producir, lo cual es inviable.",
      "metadata": {}
    },
    {
      "id": "f2ef586f",
      "cell_type": "markdown",
      "source": "### Consigna 4 -  ",
      "metadata": {}
    },
    {
      "id": "bdf31e67-2847-4ac4-9687-52c7df527440",
      "cell_type": "code",
      "source": "",
      "metadata": {},
      "outputs": [],
      "execution_count": null
    }
  ]
}