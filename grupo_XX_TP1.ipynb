{
  "cells": [
    {
      "attachments": {},
      "cell_type": "markdown",
      "id": "5c0cbb93-2880-4750-975d-11cce9f6b12c",
      "metadata": {},
      "source": [
        "# Trabajo Práctico 1 - Matrices de Insumo Producto\n",
        "\n",
        "## Enunciado"
      ]
    },
    {
      "cell_type": "markdown",
      "id": "11f7face-a325-4e30-b13e-0c3d84280c5e",
      "metadata": {},
      "source": [
        "### Consigna 1 - "
      ]
    },
    {
      "cell_type": "markdown",
      "id": "e69c407d-9132-421c-8d02-508da3bb3ae6",
      "metadata": {},
      "source": [
        "Vamos a interpretar las posibles soluciones que podemos obtener del sistema $$ p = (I - A)^{-1} d = Ld $$ Para ello tendremos en cuenta que significa que una matriz sea inversible o no y como impacta esto en las soluciones de mi sistema de ecuaciones lineales.\n",
        "<p style=\"text-align: left;\">\n",
        "a) \\( (I - A) \\ \\text{es inversible} \\)\n",
        "</p>\n",
        "Si la matriz (I - A) tiene inversa esto significa que existe la matriz de Leontief, luego existe solucion unica para este sistema.\n",
        "<p></p>\n",
        "<p style=\"text-align: left;\">\n",
        "b) \\( (I - A) \\ \\text{es inversible y d = 0} \\)\n",
        "</p>\n",
        "En este caso existe matriz de Leontief pero mi sistema resulta en $p = (I - A)^{-1}\\cdot0 = L\\cdot0 = 0$  Podemos decir que no existe demanda externa en este caso y que la produccion total es destinada a satisfacer la demanda interna.\n",
        "<p></p>\n",
        "<p style=\"text-align: left;\">\n",
        "c) \\( (I - A) \\ \\text{no es inversible} \\)\n",
        "</p>\n",
        "Al no existir inversa esto significa que no se puede calcular la matriz de Leontief. Esto tiene dos posibles conclusiones:  <p></p> \n",
        "  . El sistema no tiene solucion. <p></p> \n",
        "  . Existen infinitas soluciones debido que hay dependencia lineal entre las ecuaciones de mi sistema. Esto puede ocurrir debido a una relacion entre sectores que determinan que no hay unica solucion.\n",
        "    \n",
        "\n",
        "\n"
      ]
    },
    {
      "cell_type": "markdown",
      "id": "6ea60699-4c07-40fb-8f71-ec4cacf32708",
      "metadata": {},
      "source": [
        "### Consigna 2 -  "
      ]
    },
    {
      "cell_type": "code",
      "execution_count": 11,
      "id": "260b913f-d6d3-47b8-9431-7a64d6d037a5",
      "metadata": {
        "trusted": true
      },
      "outputs": [],
      "source": [
        "##Codigo a arreglar, funciona\n",
        "## pero devuelve cualquier cosa en la posicion a_nn de la matriz U \n",
        "##?????\n",
        "import numpy as np\n",
        "from scipy.linalg import solve_triangular\n",
        "\n",
        "def elim_gaussiana(A):\n",
        "    cant_op = 0\n",
        "    m=A.shape[0]\n",
        "    n=A.shape[1]\n",
        "    Ac = A.copy()\n",
        "    \n",
        "    if m!=n:\n",
        "        print('Matriz no cuadrada')\n",
        "        return\n",
        "    \n",
        "    ## desde aqui -- CODIGO A COMPLETAR\n",
        "    C = np.eye(n) - np.eye(n)\n",
        "        \n",
        "    for i in range(0,n):\n",
        "        M = np.eye(n,n)\n",
        "        for j in range(0,n):\n",
        "            if i <j:\n",
        "                piv = Ac[j][i]/Ac[i][i]\n",
        "                M[j][i] = -piv\n",
        "                C[j][i] = piv\n",
        "        Ac = M@Ac        \n",
        "         \n",
        "\n",
        "    Ac = Ac + C\n",
        "    ## hasta aqui\n",
        "            \n",
        "    L = np.tril(Ac,-1) + np.eye(A.shape[0]) \n",
        "    U = np.triu(Ac)\n",
        "    \n",
        "    return L, U, cant_op\n",
        "### codigo que si funciona \n"
      ]
    },
    {
      "cell_type": "markdown",
      "id": "b6527567-ea14-4fb0-8cbb-3faa67fee8c1",
      "metadata": {},
      "source": [
        "---"
      ]
    },
    {
      "cell_type": "code",
      "execution_count": 21,
      "id": "0cba432d-6576-4909-a1a1-027d40e88e1b",
      "metadata": {
        "trusted": true
      },
      "outputs": [],
      "source": [
        "import numpy as np\n",
        "from scipy.linalg import solve_triangular\n",
        "\n",
        "def inversaLU(L, U, P=None):\n",
        "    n = L.shape[0]\n",
        "    M_identidad = []\n",
        "    Inv = np.zeros((n, 0)) \n",
        "    for i in range(n):\n",
        "        canonico = np.zeros(n)\n",
        "        canonico[i] = 1\n",
        "        M_identidad.append(canonico)\n",
        "    for i in range(n):\n",
        "        x = solve_triangular(L, M_identidad[i], lower=True)\n",
        "        y = solve_triangular(U, x, lower=False)\n",
        "        Inv = np.column_stack((Inv, y))  \n",
        "        # capaz que no se pueda usar esta funcion, preguntar\n",
        "\n",
        "    return Inv"
      ]
    }
  ],
  "metadata": {
    "kernelspec": {
      "display_name": "Python (Pyodide)",
      "language": "python",
      "name": "python"
    },
    "language_info": {
      "codemirror_mode": {
        "name": "python",
        "version": 3
      },
      "file_extension": ".py",
      "mimetype": "text/x-python",
      "name": "python",
      "nbconvert_exporter": "python",
      "pygments_lexer": "ipython3",
      "version": "3.8"
    }
  },
  "nbformat": 4,
  "nbformat_minor": 5
}
