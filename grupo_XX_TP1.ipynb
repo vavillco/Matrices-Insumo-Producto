{
 "cells": [
  {
   "attachments": {},
   "cell_type": "markdown",
   "id": "5c0cbb93-2880-4750-975d-11cce9f6b12c",
   "metadata": {},
   "source": [
    "# Trabajo Práctico 1 - Matrices de Insumo Producto\n",
    "\n",
    "## Enunciado"
   ]
  },
  {
   "cell_type": "markdown",
   "id": "11f7face-a325-4e30-b13e-0c3d84280c5e",
   "metadata": {},
   "source": [
    "### Consigna 1 - "
   ]
  },
  {
   "cell_type": "markdown",
   "id": "e69c407d-9132-421c-8d02-508da3bb3ae6",
   "metadata": {},
   "source": [
    "Vamos a interpretar las posibles soluciones que podemos obtener del sistema $$ p = (I - A)^{-1} d = Ld $$ Para ello tendremos en cuenta que significa que una matriz sea inversible o no y como impacta esto en las soluciones de mi sistema de ecuaciones lineales.\n",
    "<p style=\"text-align: left;\">\n",
    "a) \\( (I - A) \\ \\text{es inversible} \\)\n",
    "</p>\n",
    "Si la matriz (I - A) tiene inversa esto significa que existe la matriz de Leontief, luego existe solucion unica para este sistema.\n",
    "<p></p>\n",
    "<p style=\"text-align: left;\">\n",
    "b) \\( (I - A) \\ \\text{es inversible y d = 0} \\)\n",
    "</p>\n",
    "En este caso existe matriz de Leontief pero mi sistema resulta en $p = (I - A)^{-1}\\cdot0 = L\\cdot0 = 0$  Podemos decir que no existe demanda externa en este caso y que la produccion total es destinada a satisfacer la demanda interna.\n",
    "<p></p>\n",
    "<p style=\"text-align: left;\">\n",
    "c) \\( (I - A) \\ \\text{no es inversible} \\)\n",
    "</p>\n",
    "Al no existir inversa esto significa que no se puede calcular la matriz de Leontief. Esto tiene dos posibles conclusiones:  <p></p> \n",
    "  . El sistema no tiene solucion. <p></p> \n",
    "  . Existen infinitas soluciones debido que hay dependencia lineal entre las ecuaciones de mi sistema. Esto puede ocurrir debido a una relacion entre sectores que determinan que no hay unica solucion.\n",
    "<p style=\"text-align: left;\">\n",
    "d) \\( (I - A) \\ \\text{no es inversible y d = 0} \\)\n",
    "</p>    \n",
    "Debido a que no existe matriz de Leontief y que d = 0, para este caso el sistema admite infinitas soluciones para p.\n",
    "\n"
   ]
  },
  {
   "cell_type": "markdown",
   "id": "6ea60699-4c07-40fb-8f71-ec4cacf32708",
   "metadata": {},
   "source": [
    "### Consigna 2 -  "
   ]
  },
  {
   "cell_type": "code",
   "execution_count": 45,
   "id": "260b913f-d6d3-47b8-9431-7a64d6d037a5",
   "metadata": {},
   "outputs": [],
   "source": [
    "\n",
    "import numpy as np\n",
    "from scipy.linalg import solve_triangular\n",
    "\n",
    "def calcularLU(A):\n",
    "    m=A.shape[0]\n",
    "    n=A.shape[1]\n",
    "    Ac = A.copy()\n",
    "    P = np.eye(n)\n",
    "    \n",
    "    if m!=n:\n",
    "        print('Matriz no cuadrada')\n",
    "        return\n",
    "\n",
    "    L = np.eye(n) \n",
    "        \n",
    "    for i in range(0,n):   \n",
    "        max_row = np.argmax(np.abs(Ac[i:n, i])) + i\n",
    "        if i != max_row:\n",
    "           \n",
    "            # Intercambia las filas en Ac\n",
    "            temp_row = Ac[i, :].copy()  # Copia de la fila i\n",
    "            Ac[i, :] = Ac[max_row, :]   # Copia la fila max_row en la posición de la fila i\n",
    "            Ac[max_row, :] = temp_row  # Restaura la fila original de la fila i en la posición de la fila max_row\n",
    "            \n",
    "            # Intercambia las filas en P\n",
    "            temp_row2 = P[i,:].copy()\n",
    "            P[i,:] = P[max_row,:]\n",
    "            P[max_row,:] = temp_row2\n",
    "\n",
    "            \n",
    "        for j in range(0,n): \n",
    "            if i <j: \n",
    "                piv = Ac[j][i]/Ac[i][i]\n",
    "                Ac[j] = Ac[j] - piv * Ac[i]\n",
    "                L[j][i] = piv\n",
    " \n",
    "    U = Ac\n",
    "    \n",
    "    return L, U, P\n"
   ]
  },
  {
   "cell_type": "markdown",
   "id": "b6527567-ea14-4fb0-8cbb-3faa67fee8c1",
   "metadata": {},
   "source": [
    "---"
   ]
  },
  {
   "cell_type": "code",
   "execution_count": 36,
   "id": "0cba432d-6576-4909-a1a1-027d40e88e1b",
   "metadata": {},
   "outputs": [],
   "source": [
    "\n",
    "import numpy as np\n",
    "from scipy.linalg import solve_triangular\n",
    "\n",
    "def inversaLU(L, U, P):\n",
    "    n = L.shape[0]\n",
    "    M_identidad = []\n",
    "    Inv = np.zeros((n, 0)) \n",
    "\n",
    "    if P is None:\n",
    "        P = np.eye(n)  # Si no se proporciona P, se usa la identidad\n",
    "\n",
    "    # Crear la matriz identidad\n",
    "    for i in range(n):\n",
    "        canonico = np.zeros(n)\n",
    "        canonico[i] = 1\n",
    "        M_identidad.append(canonico)\n",
    "\n",
    "    # Resolver el sistema para cada columna de la identidad permutada\n",
    "    for i in range(n):\n",
    "        b = P[:, i]  # Columna i de la matriz de permutación\n",
    "        x = solve_triangular(L, b, lower=True)\n",
    "        y = solve_triangular(U, x, lower=False)\n",
    "        Inv = np.column_stack((Inv, y))  # Agregar la columna de la inversa\n",
    "\n",
    "    return Inv\n"
   ]
  },
  {
   "cell_type": "markdown",
   "id": "32157079-8455-448c-ace4-cd5986936a96",
   "metadata": {},
   "source": [
    "### Consigna 3 -  "
   ]
  },
  {
   "cell_type": "markdown",
   "id": "d36b16a8-c03b-4301-8e7d-113a815cf265",
   "metadata": {},
   "source": [
    "$$\n",
    "A = \\begin{pmatrix}\n",
    "0.3 & 0.0 & 0.1 \\\\\n",
    "0.05 & 1.0 & 0.2 \\\\\n",
    "0.1 & 0.15 & 0.1\n",
    "\\end{pmatrix}\n",
    ", \\quad\n",
    "d = \\begin{pmatrix}\n",
    "100 \\\\\n",
    "100 \\\\\n",
    "300\n",
    "\\end{pmatrix}\n",
    "$$\n"
   ]
  },
  {
   "cell_type": "code",
   "execution_count": 44,
   "id": "5be7f763-6647-4334-91bb-e647cedde20c",
   "metadata": {
    "scrolled": true
   },
   "outputs": [
    {
     "name": "stdout",
     "output_type": "stream",
     "text": [
      "[[ 0.7   0.   -0.1 ]\n",
      " [-0.05  0.   -0.2 ]\n",
      " [-0.1  -0.15  0.9 ]]\n",
      "[[ 0.7         0.         -0.1       ]\n",
      " [-0.1         0.         -0.19285714]\n",
      " [-0.05       -0.15        0.89285714]]\n",
      "[[ True  True  True]\n",
      " [False  True False]\n",
      " [False  True False]]\n",
      "[   64.03940887 -5305.41871921  -551.72413793]\n",
      "[   68.96551724 -5149.42528736  -517.24137931]\n"
     ]
    }
   ],
   "source": [
    "A = np.array([[0.3,0.0,0.1],[0.05,1.0,0.2],[0.1,0.15,0.1]])\n",
    "d = np.array([100,100,300])\n",
    "\n",
    "X = (np.eye(3)-A)\n",
    "print(X)\n",
    "L, U, P = calcularLU(X)\n",
    "\n",
    "print( P@(L@U))\n",
    "print(X == P@(L@U))      # HAY UN ERROR EN LA COLUMNA 1 (ME INTERCAMBIA EL ELEM 2 POR EL 3) ???\n",
    "\n",
    "resultado = (inversaLU(L,U,P))@d\n",
    "\n",
    "print(resultado) \n",
    "print(np.linalg.inv(np.eye(3)-A)@d)"
   ]
  },
  {
   "cell_type": "code",
   "execution_count": null,
   "id": "09848c99-1608-4cc0-8551-1e0b851140d2",
   "metadata": {},
   "outputs": [],
   "source": []
  },
  {
   "cell_type": "markdown",
   "id": "f2ef586f",
   "metadata": {},
   "source": [
    "### Consigna 4 -  "
   ]
  },
  {
   "cell_type": "code",
   "execution_count": null,
   "id": "bdf31e67-2847-4ac4-9687-52c7df527440",
   "metadata": {},
   "outputs": [],
   "source": []
  }
 ],
 "metadata": {
  "kernelspec": {
   "display_name": "Python 3 (ipykernel)",
   "language": "python",
   "name": "python3"
  },
  "language_info": {
   "codemirror_mode": {
    "name": "ipython",
    "version": 3
   },
   "file_extension": ".py",
   "mimetype": "text/x-python",
   "name": "python",
   "nbconvert_exporter": "python",
   "pygments_lexer": "ipython3",
   "version": "3.12.6"
  }
 },
 "nbformat": 4,
 "nbformat_minor": 5
}
