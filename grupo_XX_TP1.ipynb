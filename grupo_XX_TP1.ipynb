{
  "metadata": {
    "kernelspec": {
      "name": "python",
      "display_name": "Python (Pyodide)",
      "language": "python"
    },
    "language_info": {
      "codemirror_mode": {
        "name": "ipython",
        "version": 3
      },
      "file_extension": ".py",
      "mimetype": "text/x-python",
      "name": "python",
      "nbconvert_exporter": "python",
      "pygments_lexer": "ipython3",
      "version": "3.10.4"
    }
  },
  "nbformat_minor": 5,
  "nbformat": 4,
  "cells": [
    {
      "id": "5c0cbb93-2880-4750-975d-11cce9f6b12c",
      "cell_type": "markdown",
      "source": "# Trabajo Práctico 1 - Matrices de Insumo Producto\n\n## Enunciado",
      "metadata": {},
      "attachments": {}
    },
    {
      "id": "11f7face-a325-4e30-b13e-0c3d84280c5e",
      "cell_type": "markdown",
      "source": "### Consigna 1 - ",
      "metadata": {}
    },
    {
      "id": "e69c407d-9132-421c-8d02-508da3bb3ae6",
      "cell_type": "markdown",
      "source": "Vamos a interpretar las posibles soluciones que podemos obtener del sistema $$ p = (I - A)^{-1} d = Ld $$ Para ello tendremos en cuenta que significa que una matriz sea inversible o no y como impacta esto en las soluciones de mi sistema de ecuaciones lineales.\n<p style=\"text-align: left;\">\na) \\( (I - A) \\ \\text{es inversible} \\)\n</p>\nSi la matriz (I - A) tiene inversa esto significa que existe la matriz de Leontief, luego existe solucion unica para este sistema.\n<p></p>\n<p style=\"text-align: left;\">\nb) \\( (I - A) \\ \\text{es inversible y d = 0} \\)\n</p>\nEn este caso existe matriz de Leontief pero mi sistema resulta en $p = (I - A)^{-1}\\cdot0 = L\\cdot0 = 0$  Podemos decir que no existe demanda externa en este caso y que la produccion total es destinada a satisfacer la demanda interna.\n<p></p>\n<p style=\"text-align: left;\">\nc) \\( (I - A) \\ \\text{no es inversible} \\)\n</p>\nAl no existir inversa esto significa que no se puede calcular la matriz de Leontief. Esto tiene dos posibles conclusiones:  <p></p> \n  . El sistema no tiene solucion. <p></p> \n  . Existen infinitas soluciones debido que hay dependencia lineal entre las ecuaciones de mi sistema. Esto puede ocurrir debido a una relacion entre sectores que determinan que no hay unica solucion.\n<p style=\"text-align: left;\">\nd) \\( (I - A) \\ \\text{no es inversible y d = 0} \\)\n</p>    \nDebido a que no existe matriz de Leontief y que d = 0, para este caso el sistema admite infinitas soluciones para p.\n\n",
      "metadata": {}
    },
    {
      "id": "6ea60699-4c07-40fb-8f71-ec4cacf32708",
      "cell_type": "markdown",
      "source": "### Consigna 2 -  ",
      "metadata": {}
    },
    {
      "id": "260b913f-d6d3-47b8-9431-7a64d6d037a5",
      "cell_type": "code",
      "source": "import numpy as np\nfrom scipy.linalg import solve_triangular\n\ndef calcularLU(A):\n    m = A.shape[0]\n    n = A.shape[1]\n    Ac = A.copy()\n    P = np.eye(n)\n    \n    if m != n:\n        print('Matriz no cuadrada')\n        return\n\n    L = np.eye(n) \n        \n    for i in range(0, n):   \n        max_row = np.argmax(np.abs(Ac[i:n, i])) + i\n        if i != max_row:\n            # Intercambia las filas en Ac\n            Ac[[i, max_row], :] = Ac[[max_row, i], :]\n            \n            # Intercambia las filas en P\n            P[[i, max_row], :] = P[[max_row, i], :]\n            \n            # Intercambia las filas en L hasta la columna i (excluyendo la diagonal)\n            if i > 0:\n                L[[i, max_row], :i] = L[[max_row, i], :i]\n            \n        for j in range(i+1, n):\n            piv = Ac[j][i] / Ac[i][i]\n            Ac[j] = Ac[j] - piv * Ac[i]\n            L[j][i] = piv\n\n    U = Ac\n    return L, U, P",
      "metadata": {
        "trusted": true
      },
      "outputs": [],
      "execution_count": 2
    },
    {
      "id": "b6527567-ea14-4fb0-8cbb-3faa67fee8c1",
      "cell_type": "markdown",
      "source": "---",
      "metadata": {}
    },
    {
      "id": "0cba432d-6576-4909-a1a1-027d40e88e1b",
      "cell_type": "code",
      "source": "\ndef inversaLU(L, U, P):\n    n = L.shape[0]\n    M_identidad = []\n    Inv = np.zeros((n, 0)) \n\n    if P is None:\n        P = np.eye(n)  # Si no se proporciona P, se usa la identidad\n\n    # Crear la matriz identidad\n    for i in range(n):\n        canonico = np.zeros(n)\n        canonico[i] = 1\n        M_identidad.append(canonico)\n\n    # Resolver el sistema para cada columna de la identidad permutada\n    for i in range(n):\n        b = P[:, i]  # Columna i de la matriz de permutación\n        x = solve_triangular(L, b, lower=True)\n        y = solve_triangular(U, x, lower=False)\n        Inv = np.column_stack((Inv, y))  # Agregar la columna de la inversa\n\n    return Inv\n",
      "metadata": {
        "trusted": true
      },
      "outputs": [],
      "execution_count": 3
    },
    {
      "id": "32157079-8455-448c-ace4-cd5986936a96",
      "cell_type": "markdown",
      "source": "### Consigna 3 -  ",
      "metadata": {}
    },
    {
      "id": "d36b16a8-c03b-4301-8e7d-113a815cf265",
      "cell_type": "markdown",
      "source": "$$\nA = \\begin{pmatrix}\n0.3 & 0.0 & 0.1 \\\\\n0.05 & 1.0 & 0.2 \\\\\n0.1 & 0.15 & 0.1\n\\end{pmatrix}\n, \\quad\nd = \\begin{pmatrix}\n100 \\\\\n100 \\\\\n300\n\\end{pmatrix}\n$$\n",
      "metadata": {}
    },
    {
      "id": "5be7f763-6647-4334-91bb-e647cedde20c",
      "cell_type": "code",
      "source": "A = np.array([[0.3,0.0,0.1],[0.05,1.0,0.2],[0.1,0.15,0.1]])\nd = np.array([100,100,300])\n\nL,U,P = calcularLU(np.eye(3) - A)\n\nprint(\"P = \" + str(inversaLU(L, U, P)@d))\n",
      "metadata": {
        "scrolled": true,
        "trusted": true
      },
      "outputs": [
        {
          "name": "stdout",
          "output_type": "stream",
          "text": [
            "P = [   68.96551724 -5149.42528736  -517.24137931]\n"
          ]
        }
      ],
      "execution_count": 12
    },
    {
      "id": "b41cb359-312c-4fdd-a873-7dbd86fead7d",
      "cell_type": "markdown",
      "source": "a)\nEn el contexto de un modelo de insumo-producto como el de Leontief, el vector de producción $ P $\nindica la cantidad de bienes o servicios que deben producirse en cada sector para satisfacer la demanda interna y externa.\nEn nuestro caso podemos explicar los requerimientos de cada sector de $ P $ de la siguiente forma :\n\nPrimer sector ($ 68.97 $): El primer valor del vector indica que el primer sector debe producir 68.97 unidades. Esta cantidad satisface tanto la demanda externa como los insumos que requieren los otros sectores. Por lo tanto este sector se encuentra en superávit.\n\nSegundo sector ($ -5149.43 $): Un valor negativo sugiere que la producción en el segundo sector no solo es insuficiente para cubrir la demanda externa, sino que probablemente es un insumo significativo para otros sectores. Este déficit indica que se requiere una gran cantidad de productos del segundo sector como insumos para producir en otros sectores, lo que crea una dependencia significativa. Por lo tanto este sector se encuentra en déficit\n\nTercer sector ($ -517.24 $): Similar al segundo sector, este valor negativo implica un consumo neto de insumos del tercer sector. El sistema consume 517.24 unidades del tercer sector para satisfacer las demandas de otros sectores o la demanda final. Por lo tanto este sector se encuentra en déficit.\n\nb)\nLa caracteristica de la matriz de Leontief $ L = (I-A) $ que lleva a esta solucion unica, es que es inversible. Es decir, su determinante es distinto de cero, por lo que la economía descrita por la matriz A es autosuficiente y sostenible en su estructura. Esto implica que cada sector, aunque dependa de otros, es capaz de satisfacer la demanda externa y su demanda interna de insumos. Ademas, la estructura de las dependencias entre los sectores es tal que el sistema económico no cae en un ciclo de dependencia infinita entre sectores. Si el determinante fuera cero, indicaría que hay una dependencia excesiva o una redundancia en el sistema. Por ejemplo, un sector podría necesitar infinitas unidades de otro sector para producir, lo cual es inviable.\n",
      "metadata": {}
    },
    {
      "id": "f2ef586f",
      "cell_type": "markdown",
      "source": "### Consigna 4 -  ",
      "metadata": {}
    },
    {
      "id": "bdf31e67-2847-4ac4-9687-52c7df527440",
      "cell_type": "markdown",
      "source": "Ante un shock de demanda externa $ \\Delta d = \\begin{pmatrix} 0 \\\\ 0 \\\\ 1 \\end{pmatrix} $ , la producción total se tendrá que adaptar bajo la ecuación\n\n$$ p' = L \\cdot d' = p + \\Delta p $$\n\ndonde $ \\Delta p = L \\cdot \\Delta d $\n\nTeniendo en cuenta que solo tiene un valor en la tercer columna, el shock de demanda se concentra en el tercer producto, pero genera cambios en la producción de todos los demás.\n\nAnalíticamente, siendo la matriz $ L $ la matriz de Leontief:\n\n$$\nL = \\begin{pmatrix}\nL_{11} & L_{12} & L_{13} \\\\\nL_{21} & L_{22} & L_{23} \\\\\nL_{31} & L_{32} & L_{33}\n\\end{pmatrix}\n$$\n\nEl cambio en la producción se calcula como:\n\n$$ \\Delta p = L \\cdot \\begin{pmatrix} 0 \\\\ 0 \\\\ 1 \\end{pmatrix} = \\begin{pmatrix} L_{13} \\\\ L_{23} \\\\ L_{33} \\end{pmatrix} $$\n\nEsto coincide con la observación anterior: un shock de demanda en el tercer producto afecta a la producción de todos los demás.",
      "metadata": {}
    },
    {
      "id": "624aa6d4",
      "cell_type": "markdown",
      "source": "### Consigna 5 -  ",
      "metadata": {}
    },
    {
      "id": "121d098b",
      "cell_type": "code",
      "source": "## Sea Z mi matriz compuesta por la demanda interna de cada sector\nZ = np.array([[350,0,0],[50, 250, 150], [200,150,550]])\n## vector p que muestra la produccion total por cada sector\np = np.array([1000, 500, 1000])\n## Armo mi matriz diagonal P\nProdTotal = np.diag(p)\n## Calculo mi matriz A con coeficientes tecnicos, A = Z@P^-1, utilizando las funciones calcularLU e inversaLU\nL, U, P = calcularLU(ProdTotal)\npInv = (inversaLU(L,U,P))\nA = Z@pInv\nprint(A) \n## Calculo mi matriz de Leontief: L=(I - A)^-1 \n## (I - A)\nI = np.eye(Z.shape[0])\nLp = I - A\n## Matriz de Leontief\nL, U, P = calcularLU(Lp)\nmatriz_Leontief = (inversaLU(L,U,P))\nprint(matriz_Leontief)",
      "metadata": {},
      "outputs": [],
      "execution_count": null
    },
    {
      "id": "5074c6a8",
      "cell_type": "markdown",
      "source": "### Consigna 6 -  ",
      "metadata": {}
    },
    {
      "id": "ead334df",
      "cell_type": "markdown",
      "source": "A partir de la fórmula\n$$\n\\begin{pmatrix}\n\n\\begin{pmatrix}\nI_{nxn} & 0_{nxm} \\\\\n0_{mxn} & I_{mxm} \\\\ \n\\end{pmatrix}\n-\n\\begin{pmatrix}\nA^{rr} & A^{rs} \\\\\nA^{sr} & A^{ss} \\\\ \n\\end{pmatrix}\n\n\n\\end{pmatrix}\n\n\\begin{pmatrix} p^r \\\\ p^s \\end{pmatrix}\n\n=\n\n\\begin{pmatrix} d^r \\\\ d^s \\end{pmatrix}\n\n$$\nQueremos encontrar $ \\Delta p^r$\n\nPara despejar, restamos a las Identidades $ I $ las matrices $ A $ y luego, aplicamos distributiva para los vectores de producción $ p $\n\n$$\n\n\\begin{pmatrix}\n(I_{nxn} - A^{rr}) p^r - A^{rs} p^s \\\\\n- A^{sr} p^r + (I_{mxm} - A^{ss}) p^s\\\\ \n\\end{pmatrix}\n\n=\n\n\\begin{pmatrix} d^r \\\\ d^s \\end{pmatrix}\n\n$$\n\nSeparando en un sistema de 2 grupos de filas\n\n$$\n\n\\begin{pmatrix}\n(I_{nxn} - A^{rr}) p^r - A^{rs} p^s\n\\end{pmatrix}\n\n=\n\nd^r \n\n\n$$\n$$\n\n\\begin{pmatrix}\n-A^{sr} p^r + (I_{mxm} - A^{ss}) p^s\n\\end{pmatrix}\n\n=\n\nd^s \n\n\n$$\n\nDerivamos ambas partes de la igualdad para las 2 ecuaciones, quedando\n\n$$\n\\begin{pmatrix}\n(I_{nxn} - A^{rr}) \\Delta p^r - A^{rs} \\Delta p^s\n\\end{pmatrix}\n\n=\n\n\\Delta d^r \n\n\n$$\n$$\n\n\\begin{pmatrix}\n-A^{sr} \\Delta p^r + (I_{mxm} - A^{ss}) \\Delta p^s\n\\end{pmatrix}\n\n=\n\n\n\\Delta d^s \n\n\n$$\n\nTenemos como dato que $ \\Delta d^s = 0 $, Esto implica que\n$$\n(I_{mxm} - A^{ss}) \\Delta p^s = A^{sr} \\Delta p^r\n$$\n$$\n\\Delta p^s = (I_{mxm} - A^{ss})^{-1} A^{sr} \\Delta p^r \n$$\n\nReemplazamos en la otra ecuacion\n\n$$\n\n\\begin{pmatrix}\n(I_{nxn} - A^{rr}) \\Delta p^r - A^{rs} \n(I_{mxm} - A^{ss})^{-1} A^{sr} \\Delta p^r \n\\end{pmatrix}\n\n=\n\n\\Delta d^r \n\n$$\n\nY despejamos el resultado\n\n$$ \n\\Delta p^r  (I_{nxn} - A^{rr}) = A^{rs} \n(I_{mxm} - A^{ss})^{-1} A^{sr} \\Delta p^r \n$$\n\n$$\n\\Delta p^r = ( (I_{nxn} - A^{rr}) - A^{rs} (I_{mxm} - A^{ss}) A^{sr} ) ^ {-1} \\Delta p^r \n$$\n\nQue, asociando la adición en matrices es igual al de la consigna\n\n$$\n\\Delta p^r = ( I_{nxn} - A^{rr} - A^{rs} (I_{mxm} - A^{ss}) A^{sr} ) ^ {-1} \\Delta p^r \n$$\n\n",
      "metadata": {}
    },
    {
      "id": "cf23a610",
      "cell_type": "markdown",
      "source": "### Consigna 7 -  ",
      "metadata": {}
    },
    {
      "id": "5de3073f",
      "cell_type": "code",
      "source": "import pandas as pd\n###############  Codigo para el armado de dataframes ############################\n\n#df = pd.read_csv('/home/Estudiante/Downloads/matrizlatina2011_compressed_0.csv')  \n    \n#PER = df[df['Country_iso3'] == 'PER']    \n#Nic = df[df['Country_iso3'] == 'NIC']\n#PER = pd.read_csv('ALC/peru.csv')  \n#NIC = pd.read_csv('ALC/Nicaragua.csv') \n#  \n# Cargar datos\nPER = pd.read_csv('C:/Users/Usuario/Downloads/peru.csv')  \nNIC = pd.read_csv('C:/Users/Usuario/Downloads/Nicaragua.csv') \n\n# Generar vectores de 'producción total' y submatrices Z\nPp = PER['Output'].values\nPn = NIC['Output'].values\nZpn = PER.filter(like='NIC').drop([\"CONS_NIC\", \"GFCF_NIC\"], axis=1).values\nZpp = PER.filter(like='PER').drop([\"CONS_PER\", \"GFCF_PER\"], axis=1).values\nZnn = NIC.filter(like='NIC').drop([\"CONS_NIC\", \"GFCF_NIC\"], axis=1).values\nZnp = NIC.filter(like='PER').drop([\"CONS_PER\", \"GFCF_PER\"], axis=1).values\n\n# Función para evitar ceros en la producción\ndef ajustar(P):\n    for i in range(len(P)):\n        if P[i] == 0:\n            P[i] = 1\n    return P\n\n# Ajustar producciones\nPn = ajustar(Pn)\nPp = ajustar(Pp)\n\n# Calcular matrices inversas\nPnInv = np.diag(1 / Pn)\nPpInv = np.diag(1 / Pp)\n\n# Construir matriz A\nApp = Zpp @ PpInv\nApn = Zpn @ PnInv\nAnp = Znp @ PpInv\nAnn = Znn @ PnInv\nA = np.block([[App, Apn], [Anp, Ann]])\n\n# Aplicar shocks en producción para Perú\nPp_ = PER['Output'].values.copy()\nPp_[4] *= 0.9  # Shock negativo\nPp_[5:8] *= 1.033  # Shock positivo\n\n# Ajustar producción nuevamente\nPpInv_ = np.diag(1 / ajustar(Pp_))\nApp_ = Zpp @ PpInv_  # Actualiza A intra-regional\nAnp_ = Znp @ PpInv_  # Actualiza A inter-regional\n\n# Construir matriz A_shock\nA_shock = np.block([[App_, Apn], [Anp_, Ann]])\n\n# Gráfico comparativo\nfig, axs = plt.subplots(1, 2, figsize=(12, 5))\n\n# Gráfico de A\naxs[0].imshow(A, cmap='viridis', aspect='auto')\naxs[0].set_title('Matriz A')\naxs[0].set_xlabel('Sectores')\naxs[0].set_ylabel('Sectores')\n\n# Gráfico de A_shock\naxs[1].imshow(A_shock, cmap='viridis', aspect='auto')\naxs[1].set_title('Matriz A con Shock')\naxs[1].set_xlabel('Sectores')\naxs[1].set_ylabel('Sectores')\n\nplt.colorbar(axs[0].imshow(A, cmap='viridis', aspect='auto'), ax=axs[0])\nplt.colorbar(axs[1].imshow(A_shock, cmap='viridis', aspect='auto'), ax=axs[1])\nplt.tight_layout()\nplt.show()\n\nprint(np.array_equal(A, A_shock))\n",
      "metadata": {},
      "outputs": [],
      "execution_count": null
    }
  ]
}