{
  "cells": [
    {
      "attachments": {},
      "cell_type": "markdown",
      "id": "5c0cbb93-2880-4750-975d-11cce9f6b12c",
      "metadata": {},
      "source": [
        "# Trabajo Práctico 1 - Matrices de Insumo Producto\n",
        "\n",
        "## Enunciado"
      ]
    },
    {
      "cell_type": "markdown",
      "id": "11f7face-a325-4e30-b13e-0c3d84280c5e",
      "metadata": {},
      "source": [
        "### Consigna 1 - "
      ]
    },
    {
      "cell_type": "markdown",
      "id": "e69c407d-9132-421c-8d02-508da3bb3ae6",
      "metadata": {},
      "source": [
        "Vamos a interpretar las posibles soluciones que podemos obtener del sistema $$ p = (I - A)^{-1} d = Ld $$ Para ello tendremos en cuenta que significa que una matriz sea inversible o no y como impacta esto en las soluciones de mi sistema de ecuaciones lineales.\n",
        "<p style=\"text-align: left;\">\n",
        "a) \\( (I - A) \\ \\text{es inversible} \\)\n",
        "</p>\n",
        "Si la matriz (I - A) tiene inversa esto significa que existe la matriz de Leontief, luego existe solucion unica para este sistema.\n",
        "<p></p>\n",
        "<p style=\"text-align: left;\">\n",
        "b) \\( (I - A) \\ \\text{es inversible y d = 0} \\)\n",
        "</p>\n",
        "En este caso existe matriz de Leontief pero mi sistema resulta en $p = (I - A)^{-1}\\cdot0 = L\\cdot0 = 0$  Podemos decir que no existe demanda externa en este caso y que la produccion total es destinada a satisfacer la demanda interna.\n",
        "<p></p>\n",
        "<p style=\"text-align: left;\">\n",
        "c) \\( (I - A) \\ \\text{no es inversible} \\)\n",
        "</p>\n",
        "Al no existir inversa esto significa que no se puede calcular la matriz de Leontief. Esto tiene dos posibles conclusiones:  <p></p> \n",
        "  . El sistema no tiene solucion. <p></p> \n",
        "  . Existen infinitas soluciones debido que hay dependencia lineal entre las ecuaciones de mi sistema. Esto puede ocurrir debido a una relacion entre sectores que determinan que no hay unica solucion.\n",
        "<p style=\"text-align: left;\">\n",
        "d) \\( (I - A) \\ \\text{no es inversible y d = 0} \\)\n",
        "</p>    \n",
        "Debido a que no existe matriz de Leontief y que d = 0, para este caso el sistema admite infinitas soluciones para p.\n",
        "\n"
      ]
    },
    {
      "cell_type": "markdown",
      "id": "6ea60699-4c07-40fb-8f71-ec4cacf32708",
      "metadata": {},
      "source": [
        "### Consigna 2 -  "
      ]
    },
    {
      "cell_type": "code",
      "execution_count": 2,
      "id": "260b913f-d6d3-47b8-9431-7a64d6d037a5",
      "metadata": {
        "trusted": true
      },
      "outputs": [],
      "source": [
        "import numpy as np\n",
        "from scipy.linalg import solve_triangular\n",
        "\n",
        "def calcularLU(A):\n",
        "    m = A.shape[0]\n",
        "    n = A.shape[1]\n",
        "    Ac = A.copy()\n",
        "    P = np.eye(n)\n",
        "    \n",
        "    if m != n:\n",
        "        print('Matriz no cuadrada')\n",
        "        return\n",
        "\n",
        "    L = np.eye(n) \n",
        "        \n",
        "    for i in range(0, n):   \n",
        "        max_row = np.argmax(np.abs(Ac[i:n, i])) + i\n",
        "        if i != max_row:\n",
        "            # Intercambia las filas en Ac\n",
        "            Ac[[i, max_row], :] = Ac[[max_row, i], :]\n",
        "            \n",
        "            # Intercambia las filas en P\n",
        "            P[[i, max_row], :] = P[[max_row, i], :]\n",
        "            \n",
        "            # Intercambia las filas en L hasta la columna i (excluyendo la diagonal)\n",
        "            if i > 0:\n",
        "                L[[i, max_row], :i] = L[[max_row, i], :i]\n",
        "            \n",
        "        for j in range(i+1, n):\n",
        "            piv = Ac[j][i] / Ac[i][i]\n",
        "            Ac[j] = Ac[j] - piv * Ac[i]\n",
        "            L[j][i] = piv\n",
        "\n",
        "    U = Ac\n",
        "    return L, U, P"
      ]
    },
    {
      "cell_type": "markdown",
      "id": "b6527567-ea14-4fb0-8cbb-3faa67fee8c1",
      "metadata": {},
      "source": [
        "---"
      ]
    },
    {
      "cell_type": "code",
      "execution_count": 3,
      "id": "0cba432d-6576-4909-a1a1-027d40e88e1b",
      "metadata": {
        "trusted": true
      },
      "outputs": [],
      "source": [
        "\n",
        "def inversaLU(L, U, P):\n",
        "    n = L.shape[0]\n",
        "    M_identidad = []\n",
        "    Inv = np.zeros((n, 0)) \n",
        "\n",
        "    if P is None:\n",
        "        P = np.eye(n)  # Si no se proporciona P, se usa la identidad\n",
        "\n",
        "    # Crear la matriz identidad\n",
        "    for i in range(n):\n",
        "        canonico = np.zeros(n)\n",
        "        canonico[i] = 1\n",
        "        M_identidad.append(canonico)\n",
        "\n",
        "    # Resolver el sistema para cada columna de la identidad permutada\n",
        "    for i in range(n):\n",
        "        b = P[:, i]  # Columna i de la matriz de permutación\n",
        "        x = solve_triangular(L, b, lower=True)\n",
        "        y = solve_triangular(U, x, lower=False)\n",
        "        Inv = np.column_stack((Inv, y))  # Agregar la columna de la inversa\n",
        "\n",
        "    return Inv\n"
      ]
    },
    {
      "cell_type": "markdown",
      "id": "32157079-8455-448c-ace4-cd5986936a96",
      "metadata": {},
      "source": [
        "### Consigna 3 -  "
      ]
    },
    {
      "cell_type": "markdown",
      "id": "d36b16a8-c03b-4301-8e7d-113a815cf265",
      "metadata": {},
      "source": [
        "$$\n",
        "A = \\begin{pmatrix}\n",
        "0.3 & 0.0 & 0.1 \\\\\n",
        "0.05 & 1.0 & 0.2 \\\\\n",
        "0.1 & 0.15 & 0.1\n",
        "\\end{pmatrix}\n",
        ", \\quad\n",
        "d = \\begin{pmatrix}\n",
        "100 \\\\\n",
        "100 \\\\\n",
        "300\n",
        "\\end{pmatrix}\n",
        "$$\n"
      ]
    },
    {
      "cell_type": "code",
      "execution_count": 12,
      "id": "5be7f763-6647-4334-91bb-e647cedde20c",
      "metadata": {
        "scrolled": true,
        "trusted": true
      },
      "outputs": [
        {
          "name": "stdout",
          "output_type": "stream",
          "text": [
            "P = [   68.96551724 -5149.42528736  -517.24137931]\n"
          ]
        }
      ],
      "source": [
        "A = np.array([[0.3,0.0,0.1],[0.05,1.0,0.2],[0.1,0.15,0.1]])\n",
        "d = np.array([100,100,300])\n",
        "\n",
        "L,U,P = calcularLU(np.eye(3) - A)\n",
        "\n",
        "print(\"P = \" + str(inversaLU(L, U, P)@d))\n"
      ]
    },
    {
      "cell_type": "markdown",
      "id": "b41cb359-312c-4fdd-a873-7dbd86fead7d",
      "metadata": {},
      "source": [
        "a)\n",
        "En el contexto de un modelo de insumo-producto como el de Leontief, el vector de producción $ P $\n",
        "indica la cantidad de bienes o servicios que deben producirse en cada sector para satisfacer la demanda interna y externa.\n",
        "En nuestro caso podemos explicar los requerimientos de cada sector de $ P $ de la siguiente forma :\n",
        "\n",
        "Primer sector ($ 68.97 $): El primer valor del vector indica que el primer sector debe producir 68.97 unidades. Esta cantidad satisface tanto la demanda externa como los insumos que requieren los otros sectores. Por lo tanto este sector se encuentra en superávit.\n",
        "\n",
        "Segundo sector ($ -5149.43 $): Un valor negativo sugiere que la producción en el segundo sector no solo es insuficiente para cubrir la demanda externa, sino que probablemente es un insumo significativo para otros sectores. Este déficit indica que se requiere una gran cantidad de productos del segundo sector como insumos para producir en otros sectores, lo que crea una dependencia significativa. Por lo tanto este sector se encuentra en déficit\n",
        "\n",
        "Tercer sector ($ -517.24 $): Similar al segundo sector, este valor negativo implica un consumo neto de insumos del tercer sector. El sistema consume 517.24 unidades del tercer sector para satisfacer las demandas de otros sectores o la demanda final. Por lo tanto este sector se encuentra en déficit.\n",
        "\n",
        "b)\n",
        "La caracteristica de la matriz de Leontief $ L = (I-A) $ que lleva a esta solucion unica, es que es inversible. Es decir, su determinante es distinto de cero, por lo que la economía descrita por la matriz A es autosuficiente y sostenible en su estructura. Esto implica que cada sector, aunque dependa de otros, es capaz de satisfacer la demanda externa y su demanda interna de insumos. Ademas, la estructura de las dependencias entre los sectores es tal que el sistema económico no cae en un ciclo de dependencia infinita entre sectores. Si el determinante fuera cero, indicaría que hay una dependencia excesiva o una redundancia en el sistema. Por ejemplo, un sector podría necesitar infinitas unidades de otro sector para producir, lo cual es inviable.\n"
      ]
    },
    {
      "cell_type": "markdown",
      "id": "f2ef586f",
      "metadata": {},
      "source": [
        "### Consigna 4 -  "
      ]
    },
    {
      "cell_type": "markdown",
      "id": "bdf31e67-2847-4ac4-9687-52c7df527440",
      "metadata": {},
      "source": [
        "Ante un shock de demanda externa $ \\Delta d = \\begin{pmatrix} 0 \\\\ 0 \\\\ 1 \\end{pmatrix} $ , la producción total se tendrá que adaptar bajo la ecuación\n",
        "\n",
        "$$ p' = L \\cdot d' = p + \\Delta p $$\n",
        "\n",
        "donde $ \\Delta p = L \\cdot \\Delta d $\n",
        "\n",
        "Teniendo en cuenta que solo tiene un valor en la tercer columna, el shock de demanda se concentra en el tercer producto, pero genera cambios en la producción de todos los demás.\n",
        "\n",
        "Analíticamente, siendo la matriz $ L $ la matriz de Leontief:\n",
        "\n",
        "$$\n",
        "L = \\begin{pmatrix}\n",
        "L_{11} & L_{12} & L_{13} \\\\\n",
        "L_{21} & L_{22} & L_{23} \\\\\n",
        "L_{31} & L_{32} & L_{33}\n",
        "\\end{pmatrix}\n",
        "$$\n",
        "\n",
        "El cambio en la producción se calcula como:\n",
        "\n",
        "$$ \\Delta p = L \\cdot \\begin{pmatrix} 0 \\\\ 0 \\\\ 1 \\end{pmatrix} = \\begin{pmatrix} L_{13} \\\\ L_{23} \\\\ L_{33} \\end{pmatrix} $$\n",
        "\n",
        "Esto coincide con la observación anterior: un shock de demanda en el tercer producto afecta a la producción de todos los demás."
      ]
    },
    {
      "cell_type": "markdown",
      "id": "624aa6d4",
      "metadata": {},
      "source": [
        "### Consigna 5 -  "
      ]
    },
    {
      "cell_type": "markdown",
      "id": "9a45aff3",
      "metadata": {},
      "source": []
    },
    {
      "cell_type": "markdown",
      "id": "5074c6a8",
      "metadata": {},
      "source": [
        "### Consigna 6 -  "
      ]
    },
    {
      "cell_type": "markdown",
      "metadata": {},
      "source": [
        "A partir de la fórmula\n",
        "$$\n",
        "\\begin{pmatrix}\n",
        "\n",
        "\\begin{pmatrix}\n",
        "I_{nxn} & 0_{nxm} \\\\\n",
        "0_{mxn} & I_{mxm} \\\\ \n",
        "\\end{pmatrix}\n",
        "-\n",
        "\\begin{pmatrix}\n",
        "A^{rr} & A^{rs} \\\\\n",
        "A^{sr} & A^{ss} \\\\ \n",
        "\\end{pmatrix}\n",
        "\n",
        "\n",
        "\\end{pmatrix}\n",
        "\n",
        "\\begin{pmatrix} p^r \\\\ p^s \\end{pmatrix}\n",
        "\n",
        "=\n",
        "\n",
        "\\begin{pmatrix} d^r \\\\ d^s \\end{pmatrix}\n",
        "\n",
        "$$\n",
        "Queremos encontrar $ \\Delta p^r$\n",
        "\n",
        "Para despejar, restamos a las Identidades $ I $ las matrices $ A $ y luego, aplicamos distributiva para los vectores de producción $ p $\n",
        "\n",
        "$$\n",
        "\n",
        "\\begin{pmatrix}\n",
        "(I_{nxn} - A^{rr}) p^r - A^{rs} p^s \\\\\n",
        "- A^{sr} p^r + (I_{mxm} - A^{ss}) p^s\\\\ \n",
        "\\end{pmatrix}\n",
        "\n",
        "=\n",
        "\n",
        "\\begin{pmatrix} d^r \\\\ d^s \\end{pmatrix}\n",
        "\n",
        "$$\n",
        "\n",
        "Separando en un sistema de 2 grupos de filas\n",
        "\n",
        "$$\n",
        "\n",
        "\\begin{pmatrix}\n",
        "(I_{nxn} - A^{rr}) p^r - A^{rs} p^s\n",
        "\\end{pmatrix}\n",
        "\n",
        "=\n",
        "\n",
        "d^r \n",
        "\n",
        "\n",
        "$$\n",
        "$$\n",
        "\n",
        "\\begin{pmatrix}\n",
        "-A^{sr} p^r + (I_{mxm} - A^{ss}) p^s\n",
        "\\end{pmatrix}\n",
        "\n",
        "=\n",
        "\n",
        "d^s \n",
        "\n",
        "\n",
        "$$\n",
        "\n",
        "Derivamos ambas partes de la igualdad para las 2 ecuaciones, quedando\n",
        "\n",
        "$$\n",
        "\\begin{pmatrix}\n",
        "(I_{nxn} - A^{rr}) \\Delta p^r - A^{rs} \\Delta p^s\n",
        "\\end{pmatrix}\n",
        "\n",
        "=\n",
        "\n",
        "\\Delta d^r \n",
        "\n",
        "\n",
        "$$\n",
        "$$\n",
        "\n",
        "\\begin{pmatrix}\n",
        "-A^{sr} \\Delta p^r + (I_{mxm} - A^{ss}) \\Delta p^s\n",
        "\\end{pmatrix}\n",
        "\n",
        "=\n",
        "\n",
        "\n",
        "\\Delta d^s \n",
        "\n",
        "\n",
        "$$\n",
        "\n",
        "Tenemos como dato que $ \\Delta d^s = 0 $, Esto implica que\n",
        "$$\n",
        "(I_{mxm} - A^{ss}) \\Delta p^s = A^{sr} \\Delta p^r\n",
        "$$\n",
        "$$\n",
        "\\Delta p^s = (I_{mxm} - A^{ss})^{-1} A^{sr} \\Delta p^r \n",
        "$$\n",
        "\n",
        "Reemplazamos en la otra ecuacion\n",
        "\n",
        "$$\n",
        "\n",
        "\\begin{pmatrix}\n",
        "(I_{nxn} - A^{rr}) \\Delta p^r - A^{rs} \n",
        "(I_{mxm} - A^{ss})^{-1} A^{sr} \\Delta p^r \n",
        "\\end{pmatrix}\n",
        "\n",
        "=\n",
        "\n",
        "\\Delta d^r \n",
        "\n",
        "$$\n",
        "\n",
        "Y despejamos el resultado\n",
        "\n",
        "$$ \n",
        "\\Delta p^r  (I_{nxn} - A^{rr}) = A^{rs} \n",
        "(I_{mxm} - A^{ss})^{-1} A^{sr} \\Delta p^r \n",
        "$$\n",
        "\n",
        "$$\n",
        "\\Delta p^r = ( (I_{nxn} - A^{rr}) - A^{rs} (I_{mxm} - A^{ss}) A^{sr} ) ^ {-1} \\Delta p^r \n",
        "$$\n",
        "\n",
        "Que, asociando la adición en matrices es igual al de la consigna\n",
        "\n",
        "$$\n",
        "\\Delta p^r = ( I_{nxn} - A^{rr} - A^{rs} (I_{mxm} - A^{ss}) A^{sr} ) ^ {-1} \\Delta p^r \n",
        "$$\n",
        "\n"
      ]
    },
    {
      "cell_type": "markdown",
      "id": "cf23a610",
      "metadata": {},
      "source": [
        "### Consigna 7 -  "
      ]
    },
    {
      "cell_type": "code",
      "execution_count": null,
      "id": "7af0b009",
      "metadata": {},
      "outputs": [],
      "source": []
    }
  ],
  "metadata": {
    "kernelspec": {
      "display_name": "alc",
      "language": "python",
      "name": "python3"
    },
    "language_info": {
      "codemirror_mode": {
        "name": "ipython",
        "version": 3
      },
      "file_extension": ".py",
      "mimetype": "text/x-python",
      "name": "python",
      "nbconvert_exporter": "python",
      "pygments_lexer": "ipython3",
      "version": "3.10.4"
    }
  },
  "nbformat": 4,
  "nbformat_minor": 5
}
